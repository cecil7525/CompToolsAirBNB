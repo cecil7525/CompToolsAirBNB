{
 "cells": [
  {
   "cell_type": "code",
   "execution_count": 150,
   "id": "6573b4ad-31b0-4f88-8d85-f7ab5375159d",
   "metadata": {},
   "outputs": [],
   "source": [
    "import pandas as pd\n",
    "import numpy as np\n",
    "from sklearn.preprocessing import OneHotEncoder, StandardScaler\n",
    "from sklearn.cluster import KMeans\n",
    "import matplotlib.pyplot as plt\n",
    "from sklearn.tree import export_graphviz\n",
    "from IPython.display import Image\n",
    "import graphviz\n",
    "from sklearn.cluster import DBSCAN"
   ]
  },
  {
   "cell_type": "code",
   "execution_count": 151,
   "id": "998d17d3-2fe2-4789-a55d-a61ca67e6d1b",
   "metadata": {},
   "outputs": [],
   "source": [
    "#\"review_scores_rating\", 'review_scores_accuracy', 'review_scores_cleanliness', 'review_scores_checkin', 'review_scores_communication',\n",
    "#               'review_scores_location','review_scores_value'"
   ]
  },
  {
   "cell_type": "code",
   "execution_count": 237,
   "id": "9e785a8d-2e22-4319-8da6-9d7acb8e1cc5",
   "metadata": {},
   "outputs": [],
   "source": [
    "cols_to_use = [\"id\", \"source\", \"name\", \"description\", \"neighborhood_overview\", \"host_id\", \"host_name\", \"host_since\", \"host_location\",\n",
    "               \"host_about\", \"host_response_rate\", \"host_acceptance_rate\", \"host_is_superhost\", \"host_verifications\", \"host_has_profile_pic\", \n",
    "               \"host_identity_verified\", \"neighbourhood_group_cleansed\", \"property_type\", \"room_type\", \"accommodates\", \"bathrooms\", \"bathrooms_text\", \n",
    "               \"bedrooms\", \"beds\", \"amenities\", \"price\", \"minimum_nights\", \"maximum_nights\", \"availability_365\", \"number_of_reviews\",\n",
    "               \"instant_bookable\", \"calculated_host_listings_count\"]\n",
    "\n",
    "# Sort only according to the columns we want\n",
    "df= pd.read_csv(\"./listings.csv\", sep = ',', usecols = cols_to_use)"
   ]
  },
  {
   "cell_type": "code",
   "execution_count": 238,
   "id": "2bdba2cd-075e-478c-b125-dd8e7d5471f4",
   "metadata": {},
   "outputs": [],
   "source": [
    "# Function to convert text description of listing to length (characters)\n",
    "def text_to_len(df: pd.DataFrame, text_columns: list):\n",
    "    for col in text_columns:\n",
    "        df.loc[:,col] = df[col].apply(lambda x: len(str(x).split()) if isinstance(x, str) else 0)\n",
    "    return df\n",
    "\n",
    "# Relevant for [\"name\", \"description\", \"neighborhood_overview\", \"host_about, \"host_verifications\", \"amnenities\"]"
   ]
  },
  {
   "cell_type": "code",
   "execution_count": 239,
   "id": "4a8257c7-af6c-4289-86d7-bbcc1e4cfce8",
   "metadata": {},
   "outputs": [],
   "source": [
    "# Function to convert host_since dates to datetime to instead have a column representing how many days they have been host\n",
    "\n",
    "def days_as_host(df: pd.DataFrame, date_col: str, reference_date: str):\n",
    "    reference_date = pd.Timestamp(reference_date)\n",
    "    df[date_col] = pd.to_datetime(df[date_col]) # Convert to datetime\n",
    "    \n",
    "    # Rename \"host_since\" to \"days_as_host\"\n",
    "    df.rename(columns={date_col: 'days_as_host'}, inplace = True)\n",
    "    \n",
    "    # Calculate the number of days from reference date\n",
    "    df['days_as_host'] = (reference_date - df['days_as_host']).dt.days\n",
    "\n",
    "    return df\n",
    "# Reference day: 05/09/2024 (since this is when it was last scraped)\n",
    "# Relevant column: \"host_since\""
   ]
  },
  {
   "cell_type": "code",
   "execution_count": 240,
   "id": "3e654c0c-d770-46d3-a798-35a6dd925507",
   "metadata": {},
   "outputs": [],
   "source": [
    "# Function to convert the attributes with \"t\" and \"f\" to \"True\" and \"False\"\n",
    "\n",
    "def convert_to_boolean(df: pd.DataFrame, boolean_cols: list):\n",
    "    for col in boolean_cols:\n",
    "        df[col] = df[col].replace({'f':False, 't': True})        \n",
    "    # Removing any listing with NaN values \n",
    "    df = df.dropna(subset=boolean_cols)\n",
    "    return df"
   ]
  },
  {
   "cell_type": "code",
   "execution_count": 241,
   "id": "357a57e9-3fc9-4cf2-b2c0-1667a63242aa",
   "metadata": {},
   "outputs": [],
   "source": [
    "# Function to convert the location of the host, to \"True/False\" if they are in or outside of New York\n",
    "\n",
    "def is_host_in_NY(df: pd.DataFrame, host_location: str):\n",
    "    \n",
    "    # Convert to true or false\n",
    "    df.loc[:, host_location] = df[host_location].apply(lambda x: True if 'New York' in str(x) or 'NY' in str(x) else False)\n",
    "    \n",
    "    # Rename column\n",
    "    df.rename(columns={host_location: 'host_in_NY'}, inplace=True)\n",
    "    return df"
   ]
  },
  {
   "cell_type": "code",
   "execution_count": 242,
   "id": "aa5a674a-a913-48aa-b7ba-b8d6ce02341a",
   "metadata": {},
   "outputs": [],
   "source": [
    "# Function to convert lists to number of amenities of listing and verifications from host\n",
    "def num_elements_in_list(df: pd.DataFrame, list_cols: list):\n",
    "    for col in list_cols:\n",
    "        df.loc[:, col] = df[col].apply(lambda x: len(eval(x)) if isinstance(x, str) else 0)\n",
    "    return df"
   ]
  },
  {
   "cell_type": "code",
   "execution_count": 243,
   "id": "d25869ba-463c-4409-b89a-c06331984888",
   "metadata": {},
   "outputs": [],
   "source": [
    "def number_and_type_bathroom(df: pd.DataFrame, bathroom_text: str):\n",
    "    # Drop NaN values\n",
    "    df = df.dropna(subset=[bathroom_text])\n",
    "    \n",
    "    # Initialize columns for private and shared bathrooms\n",
    "    df['private_bathroom'] = 0\n",
    "    df['shared_bathroom'] = 0\n",
    "    \n",
    "    # Function to extract number of bathrooms and type\n",
    "    def extract_bathroom_info(text):\n",
    "        text = text.lower()\n",
    "        if 'shared half-bath' in text:\n",
    "            return (0, 0.5)\n",
    "        elif 'private half-bath' in text or 'half-bath' in text:\n",
    "            return (0.5, 0)\n",
    "        elif 'shared' in text:\n",
    "            num_baths = float(text.split()[0])\n",
    "            return (0, num_baths)\n",
    "        elif 'private' in text:\n",
    "            num_baths = float(text.split()[0])\n",
    "            return (num_baths, 0)\n",
    "        else:\n",
    "            num_baths = float(text.split()[0])\n",
    "            return (num_baths, 0)\n",
    "    \n",
    "    # Apply the function to each row\n",
    "    df[['private_bathroom', 'shared_bathroom']] = df[bathroom_text].apply(lambda x: pd.Series(extract_bathroom_info(x)))\n",
    "    \n",
    "    return df"
   ]
  },
  {
   "cell_type": "code",
   "execution_count": 244,
   "id": "74f5ad6c-211e-4ff5-9b47-486276ef3133",
   "metadata": {},
   "outputs": [
    {
     "name": "stderr",
     "output_type": "stream",
     "text": [
      "/var/folders/4m/s8hcw8_d02zgx8npr9k9fh4m0000gn/T/ipykernel_14325/2492182528.py:5: FutureWarning: Downcasting behavior in `replace` is deprecated and will be removed in a future version. To retain the old behavior, explicitly call `result.infer_objects(copy=False)`. To opt-in to the future behavior, set `pd.set_option('future.no_silent_downcasting', True)`\n",
      "  df[col] = df[col].replace({'f':False, 't': True})\n"
     ]
    }
   ],
   "source": [
    "# Using the functions to clean the data\n",
    "text_cols = [\"name\", \"description\", \"neighborhood_overview\", \"host_about\"]\n",
    "boolean_cols = [\"host_is_superhost\", \"host_has_profile_pic\", \"host_identity_verified\", \"instant_bookable\"]\n",
    "date_col = \"host_since\"\n",
    "reference_date = \"2024-09-05\"\n",
    "host_loc = \"host_location\"\n",
    "list_cols = [\"host_verifications\", \"amenities\"]\n",
    "\n",
    "df = df[df['source'] != 'previous scrape'] # !! Removing unavailable listings !!\n",
    "df = text_to_len(df, text_cols)\n",
    "df = days_as_host(df, date_col, reference_date)\n",
    "df = convert_to_boolean(df, boolean_cols)\n",
    "df = is_host_in_NY(df, host_loc)\n",
    "df = num_elements_in_list(df, list_cols)\n",
    "df = df.dropna(subset=['bedrooms']) # Drop rows where 'bedrooms' is NaN as we have no other information about number of beds\n",
    "df = df.dropna(subset=['beds']) # Drop rows where 'bedrooms' is NaN as we have no other information about number of beds\n",
    "df = df.dropna(subset=['price']) # Drop rows where price is NaN\n",
    "df['price'] = df['price'].str.replace('$', '').str.replace(',', '').astype(float) # Convert str dollar price to numerical price\n"
   ]
  },
  {
   "cell_type": "code",
   "execution_count": 245,
   "id": "0ceff3a1-6efc-44fa-b724-29058314b4dd",
   "metadata": {},
   "outputs": [
    {
     "name": "stderr",
     "output_type": "stream",
     "text": [
      "/var/folders/4m/s8hcw8_d02zgx8npr9k9fh4m0000gn/T/ipykernel_14325/549249987.py:6: SettingWithCopyWarning: \n",
      "A value is trying to be set on a copy of a slice from a DataFrame.\n",
      "Try using .loc[row_indexer,col_indexer] = value instead\n",
      "\n",
      "See the caveats in the documentation: https://pandas.pydata.org/pandas-docs/stable/user_guide/indexing.html#returning-a-view-versus-a-copy\n",
      "  df['private_bathroom'] = 0\n",
      "/var/folders/4m/s8hcw8_d02zgx8npr9k9fh4m0000gn/T/ipykernel_14325/549249987.py:7: SettingWithCopyWarning: \n",
      "A value is trying to be set on a copy of a slice from a DataFrame.\n",
      "Try using .loc[row_indexer,col_indexer] = value instead\n",
      "\n",
      "See the caveats in the documentation: https://pandas.pydata.org/pandas-docs/stable/user_guide/indexing.html#returning-a-view-versus-a-copy\n",
      "  df['shared_bathroom'] = 0\n",
      "/var/folders/4m/s8hcw8_d02zgx8npr9k9fh4m0000gn/T/ipykernel_14325/549249987.py:27: SettingWithCopyWarning: \n",
      "A value is trying to be set on a copy of a slice from a DataFrame.\n",
      "Try using .loc[row_indexer,col_indexer] = value instead\n",
      "\n",
      "See the caveats in the documentation: https://pandas.pydata.org/pandas-docs/stable/user_guide/indexing.html#returning-a-view-versus-a-copy\n",
      "  df[['private_bathroom', 'shared_bathroom']] = df[bathroom_text].apply(lambda x: pd.Series(extract_bathroom_info(x)))\n"
     ]
    }
   ],
   "source": [
    "# LABEL or ONE-HOT ENOCDING\n",
    "df = number_and_type_bathroom(df, 'bathrooms_text') # Now we have \"private_bathroom\" and \"shared_bathroom\"\n",
    "df = pd.get_dummies(df, columns=['room_type'], prefix='room_type') # Now we have 'room_type_Entire home/apt', 'room_type_Hotel room',\n",
    "                                                                    # 'room_type_Private room', 'room_type_Shared room' "
   ]
  },
  {
   "cell_type": "code",
   "execution_count": 246,
   "id": "9bdc229c-4545-4ab2-9738-9f406230993c",
   "metadata": {},
   "outputs": [],
   "source": [
    "df = df.dropna()"
   ]
  },
  {
   "cell_type": "code",
   "execution_count": 247,
   "id": "1333f741-755b-472b-95d6-e36242480b52",
   "metadata": {},
   "outputs": [],
   "source": [
    "def get_rates_categories(col):\n",
    "    int_representation = int(col[:-1])\n",
    "    if int_representation < 25:\n",
    "        return 1\n",
    "    elif int_representation >= 25 and int_representation < 50:\n",
    "        return 2\n",
    "    elif int_representation >= 50 and int_representation < 75:\n",
    "        return 3\n",
    "    else:\n",
    "        return 4"
   ]
  },
  {
   "cell_type": "code",
   "execution_count": 248,
   "id": "38c251c0-542b-4252-b311-a6a693999d76",
   "metadata": {},
   "outputs": [],
   "source": [
    "df[\"host_response_rate_category\"] = df[\"host_response_rate\"].apply(lambda x: get_rates_categories(x))\n",
    "df[\"host_acceptance_rate_category\"] = df[\"host_acceptance_rate\"].apply(lambda x: get_rates_categories(x))"
   ]
  },
  {
   "cell_type": "code",
   "execution_count": 249,
   "id": "756d29d4-ad9e-4d6e-8eb4-1b011a9b6278",
   "metadata": {},
   "outputs": [],
   "source": [
    "columns_considered = [\"name\", \"description\", \"neighborhood_overview\", \"days_as_host\", \"host_in_NY\",\n",
    "                      \"host_about\", \"host_response_rate_category\", \"host_acceptance_rate_category\", \"host_is_superhost\", \n",
    "                      \"host_verifications\", \"host_has_profile_pic\", \"host_identity_verified\", \"neighbourhood_group_cleansed\", \n",
    "                      \"property_type\", \"accommodates\", \"bathrooms\", \"bathrooms_text\", \n",
    "                      \"bedrooms\", \"beds\", \"amenities\", \"price\", \"minimum_nights\", \"maximum_nights\", \"availability_365\", \"number_of_reviews\",\n",
    "                      \"instant_bookable\", \"calculated_host_listings_count\", \"private_bathroom\", \"shared_bathroom\", \n",
    "                      \"room_type_Entire home/apt\", \"room_type_Hotel room\", \"room_type_Private room\", \"room_type_Shared room\"]"
   ]
  },
  {
   "cell_type": "code",
   "execution_count": 250,
   "id": "e02548bd-5494-411e-9268-6e787192ad42",
   "metadata": {},
   "outputs": [],
   "source": [
    "df_final = df[columns_considered]"
   ]
  },
  {
   "cell_type": "code",
   "execution_count": 276,
   "id": "7ca0c179-cb0d-4438-83f3-bf58e43dcd9b",
   "metadata": {},
   "outputs": [],
   "source": [
    "pd.set_option('display.max_columns', None)"
   ]
  },
  {
   "cell_type": "code",
   "execution_count": 251,
   "id": "af7410cc-5eea-47d9-9d2d-92e8a6816af9",
   "metadata": {},
   "outputs": [],
   "source": [
    "numerical_cols = df_final.select_dtypes(include=[np.number]).columns.tolist()\n",
    "categorical_cols = df_final.select_dtypes(include=['object', 'category']).columns.tolist()\n",
    "boolean_cols = df_final.select_dtypes(include=[bool]).columns.tolist()"
   ]
  },
  {
   "cell_type": "code",
   "execution_count": 252,
   "id": "ac36c346-959a-4d78-a85a-434f25ab58b3",
   "metadata": {},
   "outputs": [
    {
     "name": "stderr",
     "output_type": "stream",
     "text": [
      "/var/folders/4m/s8hcw8_d02zgx8npr9k9fh4m0000gn/T/ipykernel_14325/2538897322.py:1: SettingWithCopyWarning: \n",
      "A value is trying to be set on a copy of a slice from a DataFrame.\n",
      "Try using .loc[row_indexer,col_indexer] = value instead\n",
      "\n",
      "See the caveats in the documentation: https://pandas.pydata.org/pandas-docs/stable/user_guide/indexing.html#returning-a-view-versus-a-copy\n",
      "  df_final[boolean_cols] = df_final[boolean_cols].astype(int)\n"
     ]
    }
   ],
   "source": [
    "df_final[boolean_cols] = df_final[boolean_cols].astype(int)\n",
    "\n",
    "encoder = OneHotEncoder(sparse_output=False, drop='first')\n",
    "encoded_categorical = encoder.fit_transform(df_final[categorical_cols])"
   ]
  },
  {
   "cell_type": "code",
   "execution_count": 253,
   "id": "86cd4d7e-288c-4638-89c8-2625aa101dac",
   "metadata": {},
   "outputs": [],
   "source": [
    "scaler = StandardScaler()\n",
    "# Concatenating numerical and boolean columns\n",
    "numerical_and_boolean = df_final[numerical_cols + boolean_cols]\n",
    "scaled_numerical_boolean = scaler.fit_transform(numerical_and_boolean)"
   ]
  },
  {
   "cell_type": "code",
   "execution_count": 254,
   "id": "01215b82-325c-405a-a553-83dd2e5f8b57",
   "metadata": {},
   "outputs": [],
   "source": [
    "encoded_categorical_df = pd.DataFrame(encoded_categorical, columns=encoder.get_feature_names_out(categorical_cols))\n",
    "\n",
    "preprocessed_df = pd.concat([pd.DataFrame(scaled_numerical_boolean, columns=numerical_cols + boolean_cols), encoded_categorical_df], axis=1)"
   ]
  },
  {
   "cell_type": "code",
   "execution_count": 255,
   "id": "360dad28-6b69-49eb-b976-c47ec119e2a2",
   "metadata": {},
   "outputs": [
    {
     "data": {
      "image/png": "[encoded data removed]",
      "text/plain": [
       "<Figure size 800x500 with 1 Axes>"
      ]
     },
     "metadata": {},
     "output_type": "display_data"
    }
   ],
   "source": [
    "inertia = []\n",
    "k_values = range(1, 20)  # You can adjust the range according to your needs\n",
    "\n",
    "for k in k_values:\n",
    "    kmeans = KMeans(n_clusters=k, random_state=39)\n",
    "    kmeans.fit(preprocessed_df)\n",
    "    inertia.append(kmeans.inertia_)  # Store the inertia values\n",
    "\n",
    "# Step 8: Plot the Elbow Curve\n",
    "plt.figure(figsize=(8, 5))\n",
    "plt.plot(k_values, inertia, marker='o')\n",
    "plt.title('Elbow Method for Optimal k')\n",
    "plt.xlabel('Number of clusters (k)')\n",
    "plt.ylabel('Inertia')\n",
    "plt.xticks(k_values)\n",
    "plt.grid(True)\n",
    "plt.show()"
   ]
  },
  {
   "cell_type": "code",
   "execution_count": 256,
   "id": "6427b548-1748-4351-ada7-13283920136a",
   "metadata": {},
   "outputs": [
    {
     "name": "stderr",
     "output_type": "stream",
     "text": [
      "/var/folders/4m/s8hcw8_d02zgx8npr9k9fh4m0000gn/T/ipykernel_14325/1547166533.py:6: SettingWithCopyWarning: \n",
      "A value is trying to be set on a copy of a slice from a DataFrame.\n",
      "Try using .loc[row_indexer,col_indexer] = value instead\n",
      "\n",
      "See the caveats in the documentation: https://pandas.pydata.org/pandas-docs/stable/user_guide/indexing.html#returning-a-view-versus-a-copy\n",
      "  df_final['cluster'] = kmeans.labels_\n"
     ]
    }
   ],
   "source": [
    "optimal_k = 6\n",
    "\n",
    "kmeans = KMeans(n_clusters=optimal_k, random_state=39)\n",
    "kmeans.fit(preprocessed_df)\n",
    "\n",
    "df_final['cluster'] = kmeans.labels_"
   ]
  },
  {
   "cell_type": "code",
   "execution_count": 278,
   "id": "81305ba8-1b7b-4865-b48d-48397b402e5b",
   "metadata": {},
   "outputs": [
    {
     "data": {
      "text/plain": [
       "'Source.gv.pdf'"
      ]
     },
     "execution_count": 278,
     "metadata": {},
     "output_type": "execute_result"
    }
   ],
   "source": [
    "X = preprocessed_df  # Features\n",
    "y = df_final['cluster']    # Targets based on clustering\n",
    "\n",
    "# Step 10: Fit a Random Forest Classifier\n",
    "rf_model = RandomForestClassifier(random_state=190)\n",
    "rf_model.fit(X, y)\n",
    "tree_index = 1\n",
    "estimator = rf_model.estimators_[tree_index]\n",
    "\n",
    "# Step 3: Export the chosen tree to a dot file\n",
    "dot_file = export_graphviz(estimator, \n",
    "                            out_file=None, \n",
    "                            feature_names=X.columns, \n",
    "                            class_names=[str(i) for i in range(optimal_k)],\n",
    "                            filled=True, \n",
    "                            rounded=True, \n",
    "                            special_characters=True)\n",
    "\n",
    "# Step 4: Visualize the tree using graphviz\n",
    "graph = graphviz.Source(dot_file)\n",
    "graph.view()  # Open the tree visualization"
   ]
  },
  {
   "cell_type": "markdown",
   "id": "3e981030-e22f-4709-88ce-e892cc90a473",
   "metadata": {},
   "source": [
    "### DBSCAN Algorithm"
   ]
  },
  {
   "cell_type": "code",
   "execution_count": 225,
   "id": "8464ed99-618b-461f-bc54-a5a8a61ecd81",
   "metadata": {},
   "outputs": [
    {
     "data": {
      "image/png": "[encoded data removed]",
      "text/plain": [
       "<Figure size 1000x600 with 1 Axes>"
      ]
     },
     "metadata": {},
     "output_type": "display_data"
    }
   ],
   "source": [
    "from sklearn.neighbors import NearestNeighbors\n",
    "\n",
    "# Assume preprocessed_data is your data after preprocessing\n",
    "min_samples = 68  # Set your min_samples for DBSCAN\n",
    "\n",
    "# Fit Nearest Neighbors\n",
    "nbrs = NearestNeighbors(n_neighbors=min_samples).fit(preprocessed_df)\n",
    "distances, indices = nbrs.kneighbors(preprocessed_df)\n",
    "\n",
    "# Get the distances to the k-th nearest neighbor (min_samples)\n",
    "k_distance = distances[:, min_samples - 1]  # Selecting the distance to the min_samples-neighbor\n",
    "\n",
    "# Sort the K-distance\n",
    "k_distance_sorted = np.sort(k_distance)\n",
    "\n",
    "# Plot the K-distance graph\n",
    "plt.figure(figsize=(10, 6))\n",
    "plt.plot(k_distance_sorted)\n",
    "plt.title('K-distance Plot')\n",
    "plt.xlabel('Points sorted by distance')\n",
    "plt.ylabel(f'Distance to {min_samples}-th nearest neighbor')\n",
    "plt.grid(True)\n",
    "plt.show()"
   ]
  },
  {
   "cell_type": "code",
   "execution_count": 226,
   "id": "79424efc-bdf0-4808-af0a-7a27359af959",
   "metadata": {},
   "outputs": [],
   "source": [
    "eps = 7  # Maximum distance between two samples for them to be considered as in the same neighborhood\n",
    "min_samples = 68  # Number of samples in a neighborhood for a point to be considered as a core point\n",
    "\n",
    "dbscan = DBSCAN(eps=eps, min_samples=min_samples)\n",
    "clusters = dbscan.fit_predict(preprocessed_df)\n",
    "\n",
    "# Add cluster labels to the original data\n",
    "df['cluster'] = clusters"
   ]
  },
  {
   "cell_type": "code",
   "execution_count": 227,
   "id": "d171e88f-6e63-437c-8969-b2d4329ac939",
   "metadata": {},
   "outputs": [
    {
     "name": "stdout",
     "output_type": "stream",
     "text": [
      "Estimated number of clusters: 4\n",
      "Estimated number of noise points: 55\n"
     ]
    }
   ],
   "source": [
    "# Count clusters and noise points\n",
    "n_clusters = len(set(clusters)) - (1 if -1 in clusters else 0)  # -1 indicates noise\n",
    "n_noise = list(clusters).count(-1)\n",
    "\n",
    "print(f'Estimated number of clusters: {n_clusters}')\n",
    "print(f'Estimated number of noise points: {n_noise}')"
   ]
  },
  {
   "cell_type": "code",
   "execution_count": 209,
   "id": "1b139683-0827-41a8-8a9a-390b318a3f94",
   "metadata": {},
   "outputs": [
    {
     "data": {
      "text/html": [
       "<div>\n",
       "<style scoped>\n",
       "    .dataframe tbody tr th:only-of-type {\n",
       "        vertical-align: middle;\n",
       "    }\n",
       "\n",
       "    .dataframe tbody tr th {\n",
       "        vertical-align: top;\n",
       "    }\n",
       "\n",
       "    .dataframe thead th {\n",
       "        text-align: right;\n",
       "    }\n",
       "</style>\n",
       "<table border=\"1\" class=\"dataframe\">\n",
       "  <thead>\n",
       "    <tr style=\"text-align: right;\">\n",
       "      <th></th>\n",
       "      <th>Feature</th>\n",
       "      <th>Importance</th>\n",
       "    </tr>\n",
       "  </thead>\n",
       "  <tbody>\n",
       "    <tr>\n",
       "      <th>15</th>\n",
       "      <td>host_has_profile_pic</td>\n",
       "      <td>0.214310</td>\n",
       "    </tr>\n",
       "    <tr>\n",
       "      <th>19</th>\n",
       "      <td>room_type_Hotel room</td>\n",
       "      <td>0.114236</td>\n",
       "    </tr>\n",
       "    <tr>\n",
       "      <th>21</th>\n",
       "      <td>room_type_Shared room</td>\n",
       "      <td>0.077792</td>\n",
       "    </tr>\n",
       "    <tr>\n",
       "      <th>0</th>\n",
       "      <td>days_as_host</td>\n",
       "      <td>0.038975</td>\n",
       "    </tr>\n",
       "    <tr>\n",
       "      <th>664</th>\n",
       "      <td>property_type_Shared room in rental unit</td>\n",
       "      <td>0.036861</td>\n",
       "    </tr>\n",
       "  </tbody>\n",
       "</table>\n",
       "</div>"
      ],
      "text/plain": [
       "                                      Feature  Importance\n",
       "15                       host_has_profile_pic    0.214310\n",
       "19                       room_type_Hotel room    0.114236\n",
       "21                      room_type_Shared room    0.077792\n",
       "0                                days_as_host    0.038975\n",
       "664  property_type_Shared room in rental unit    0.036861"
      ]
     },
     "execution_count": 209,
     "metadata": {},
     "output_type": "execute_result"
    }
   ],
   "source": [
    "X = preprocessed_df  # Features\n",
    "y = df['cluster']    # Targets based on clustering\n",
    "\n",
    "# Step 10: Fit a Random Forest Classifier\n",
    "rf_model = RandomForestClassifier(random_state=60)\n",
    "rf_model.fit(X, y)\n",
    "\n",
    "# Step 11: Get Feature Importances\n",
    "importances = rf_model.feature_importances_\n",
    "\n",
    "# Step 12: Create a DataFrame for Visualization\n",
    "feature_names = X.columns\n",
    "feature_importances_df = pd.DataFrame({'Feature': feature_names, 'Importance': importances})\n",
    "\n",
    "# Step 13: Sort and Visualize Feature Importances\n",
    "feature_importances_df = feature_importances_df.sort_values(by='Importance', ascending=False)\n",
    "\n",
    "feature_importances_df.head()"
   ]
  },
  {
   "cell_type": "code",
   "execution_count": 228,
   "id": "1524c84f-186c-4259-91d8-d40640d3b541",
   "metadata": {},
   "outputs": [],
   "source": [
    "df_fin = df[df['cluster'] != -1]"
   ]
  },
  {
   "cell_type": "markdown",
   "id": "4e5c145e-d8c4-4882-ad32-71a8ef52e55f",
   "metadata": {},
   "source": [
    "### Merge listings and sentiments"
   ]
  },
  {
   "cell_type": "code",
   "execution_count": 262,
   "id": "d61ca504-bf56-4377-81f3-39c9e93900b7",
   "metadata": {},
   "outputs": [],
   "source": [
    "df_sentiment = pd.read_csv(\"./NYtransREV.csv\", header=[1], low_memory=False)\n",
    "df_final_sentiment = df_sentiment[[\"listing_id\", \"com_neg_s\", \"com_neu_s\", \"com_pos_s\", \"comments\"]]"
   ]
  },
  {
   "cell_type": "code",
   "execution_count": 263,
   "id": "77b17f13-090d-4428-aaf8-1a1f20f5957d",
   "metadata": {},
   "outputs": [
    {
     "name": "stderr",
     "output_type": "stream",
     "text": [
      "/var/folders/4m/s8hcw8_d02zgx8npr9k9fh4m0000gn/T/ipykernel_14325/1478042908.py:1: SettingWithCopyWarning: \n",
      "A value is trying to be set on a copy of a slice from a DataFrame.\n",
      "Try using .loc[row_indexer,col_indexer] = value instead\n",
      "\n",
      "See the caveats in the documentation: https://pandas.pydata.org/pandas-docs/stable/user_guide/indexing.html#returning-a-view-versus-a-copy\n",
      "  df_final_sentiment[\"average_sentiment\"] = df_final_sentiment[\"com_neg_s\"] * -1 + df_final_sentiment[\"com_neu_s\"] * 0 + df_final_sentiment[\"com_pos_s\"] * 1\n"
     ]
    }
   ],
   "source": [
    "df_final_sentiment[\"average_sentiment\"] = df_final_sentiment[\"com_neg_s\"] * -1 + df_final_sentiment[\"com_neu_s\"] * 0 + df_final_sentiment[\"com_pos_s\"] * 1"
   ]
  },
  {
   "cell_type": "code",
   "execution_count": 264,
   "id": "3fc94dc5-82de-4643-a57b-6615eec478a6",
   "metadata": {},
   "outputs": [],
   "source": [
    "def categorize_sentiments(rw):\n",
    "    if rw < -0.5:\n",
    "        return \"very bad\"\n",
    "    elif rw >= -0.5 and rw < -0.1:\n",
    "        return \"bad\"\n",
    "    elif rw >= -0.1 and rw < 0.1:\n",
    "        return \"neutral\"\n",
    "    elif rw >= 0.1 and rw <= 0.5:\n",
    "        return \"good\"\n",
    "    else:\n",
    "        return \"very good\""
   ]
  },
  {
   "cell_type": "code",
   "execution_count": 265,
   "id": "50aa3328-de5a-46c0-91ef-723e612a407c",
   "metadata": {},
   "outputs": [
    {
     "name": "stderr",
     "output_type": "stream",
     "text": [
      "/var/folders/4m/s8hcw8_d02zgx8npr9k9fh4m0000gn/T/ipykernel_14325/3061388814.py:1: SettingWithCopyWarning: \n",
      "A value is trying to be set on a copy of a slice from a DataFrame.\n",
      "Try using .loc[row_indexer,col_indexer] = value instead\n",
      "\n",
      "See the caveats in the documentation: https://pandas.pydata.org/pandas-docs/stable/user_guide/indexing.html#returning-a-view-versus-a-copy\n",
      "  df_final_sentiment[\"sentiment_category\"] = df_final_sentiment[\"average_sentiment\"].apply(lambda x: categorize_sentiments(x))\n"
     ]
    }
   ],
   "source": [
    "df_final_sentiment[\"sentiment_category\"] = df_final_sentiment[\"average_sentiment\"].apply(lambda x: categorize_sentiments(x))"
   ]
  },
  {
   "cell_type": "code",
   "execution_count": 268,
   "id": "30376f64-7d40-433a-aea5-2346d7006375",
   "metadata": {},
   "outputs": [
    {
     "data": {
      "text/html": [
       "<div>\n",
       "<style scoped>\n",
       "    .dataframe tbody tr th:only-of-type {\n",
       "        vertical-align: middle;\n",
       "    }\n",
       "\n",
       "    .dataframe tbody tr th {\n",
       "        vertical-align: top;\n",
       "    }\n",
       "\n",
       "    .dataframe thead th {\n",
       "        text-align: right;\n",
       "    }\n",
       "</style>\n",
       "<table border=\"1\" class=\"dataframe\">\n",
       "  <thead>\n",
       "    <tr style=\"text-align: right;\">\n",
       "      <th></th>\n",
       "      <th>listing_id</th>\n",
       "      <th>com_neg_s</th>\n",
       "      <th>com_neu_s</th>\n",
       "      <th>com_pos_s</th>\n",
       "      <th>comments</th>\n",
       "      <th>average_sentiment</th>\n",
       "      <th>sentiment_category</th>\n",
       "    </tr>\n",
       "  </thead>\n",
       "  <tbody>\n",
       "    <tr>\n",
       "      <th>45</th>\n",
       "      <td>2595</td>\n",
       "      <td>0.454183</td>\n",
       "      <td>0.445519</td>\n",
       "      <td>0.100298</td>\n",
       "      <td>First of all I have to say that Jennifer is no...</td>\n",
       "      <td>-0.353886</td>\n",
       "      <td>bad</td>\n",
       "    </tr>\n",
       "    <tr>\n",
       "      <th>215</th>\n",
       "      <td>74680</td>\n",
       "      <td>0.442149</td>\n",
       "      <td>0.414147</td>\n",
       "      <td>0.143704</td>\n",
       "      <td>Nice place but keep your guard up Allot of  gh...</td>\n",
       "      <td>-0.298446</td>\n",
       "      <td>bad</td>\n",
       "    </tr>\n",
       "    <tr>\n",
       "      <th>250</th>\n",
       "      <td>230877</td>\n",
       "      <td>0.549384</td>\n",
       "      <td>0.392404</td>\n",
       "      <td>0.058212</td>\n",
       "      <td>As long as you dont have a friend come stay fo...</td>\n",
       "      <td>-0.491173</td>\n",
       "      <td>bad</td>\n",
       "    </tr>\n",
       "    <tr>\n",
       "      <th>457</th>\n",
       "      <td>6848</td>\n",
       "      <td>0.575854</td>\n",
       "      <td>0.339352</td>\n",
       "      <td>0.084794</td>\n",
       "      <td>We chose this place based on photos location a...</td>\n",
       "      <td>-0.491060</td>\n",
       "      <td>bad</td>\n",
       "    </tr>\n",
       "    <tr>\n",
       "      <th>577</th>\n",
       "      <td>232612</td>\n",
       "      <td>0.395423</td>\n",
       "      <td>0.414303</td>\n",
       "      <td>0.190274</td>\n",
       "      <td>Dee was very kind to wait for us until late at...</td>\n",
       "      <td>-0.205150</td>\n",
       "      <td>bad</td>\n",
       "    </tr>\n",
       "    <tr>\n",
       "      <th>...</th>\n",
       "      <td>...</td>\n",
       "      <td>...</td>\n",
       "      <td>...</td>\n",
       "      <td>...</td>\n",
       "      <td>...</td>\n",
       "      <td>...</td>\n",
       "      <td>...</td>\n",
       "    </tr>\n",
       "    <tr>\n",
       "      <th>75106</th>\n",
       "      <td>1712660</td>\n",
       "      <td>0.352889</td>\n",
       "      <td>0.493140</td>\n",
       "      <td>0.153970</td>\n",
       "      <td>Alisons home was selected as a last minute sub...</td>\n",
       "      <td>-0.198919</td>\n",
       "      <td>bad</td>\n",
       "    </tr>\n",
       "    <tr>\n",
       "      <th>75173</th>\n",
       "      <td>1712660</td>\n",
       "      <td>0.430079</td>\n",
       "      <td>0.363700</td>\n",
       "      <td>0.206221</td>\n",
       "      <td>The room condition is older than shown on the ...</td>\n",
       "      <td>-0.223859</td>\n",
       "      <td>bad</td>\n",
       "    </tr>\n",
       "    <tr>\n",
       "      <th>75285</th>\n",
       "      <td>1716640</td>\n",
       "      <td>0.450092</td>\n",
       "      <td>0.464506</td>\n",
       "      <td>0.085402</td>\n",
       "      <td>Incredible She calculated the time from the ai...</td>\n",
       "      <td>-0.364690</td>\n",
       "      <td>bad</td>\n",
       "    </tr>\n",
       "    <tr>\n",
       "      <th>75308</th>\n",
       "      <td>1717058</td>\n",
       "      <td>0.491195</td>\n",
       "      <td>0.398847</td>\n",
       "      <td>0.109958</td>\n",
       "      <td>Prosbr Raynald is a very attentive host and ea...</td>\n",
       "      <td>-0.381237</td>\n",
       "      <td>bad</td>\n",
       "    </tr>\n",
       "    <tr>\n",
       "      <th>75864</th>\n",
       "      <td>1948494</td>\n",
       "      <td>0.484091</td>\n",
       "      <td>0.371151</td>\n",
       "      <td>0.144758</td>\n",
       "      <td>Dawn  Vernons place was a nice home to stay in...</td>\n",
       "      <td>-0.339333</td>\n",
       "      <td>bad</td>\n",
       "    </tr>\n",
       "  </tbody>\n",
       "</table>\n",
       "<p>427 rows × 7 columns</p>\n",
       "</div>"
      ],
      "text/plain": [
       "       listing_id  com_neg_s  com_neu_s  com_pos_s  \\\n",
       "45           2595   0.454183   0.445519   0.100298   \n",
       "215         74680   0.442149   0.414147   0.143704   \n",
       "250        230877   0.549384   0.392404   0.058212   \n",
       "457          6848   0.575854   0.339352   0.084794   \n",
       "577        232612   0.395423   0.414303   0.190274   \n",
       "...           ...        ...        ...        ...   \n",
       "75106     1712660   0.352889   0.493140   0.153970   \n",
       "75173     1712660   0.430079   0.363700   0.206221   \n",
       "75285     1716640   0.450092   0.464506   0.085402   \n",
       "75308     1717058   0.491195   0.398847   0.109958   \n",
       "75864     1948494   0.484091   0.371151   0.144758   \n",
       "\n",
       "                                                comments  average_sentiment  \\\n",
       "45     First of all I have to say that Jennifer is no...          -0.353886   \n",
       "215    Nice place but keep your guard up Allot of  gh...          -0.298446   \n",
       "250    As long as you dont have a friend come stay fo...          -0.491173   \n",
       "457    We chose this place based on photos location a...          -0.491060   \n",
       "577    Dee was very kind to wait for us until late at...          -0.205150   \n",
       "...                                                  ...                ...   \n",
       "75106  Alisons home was selected as a last minute sub...          -0.198919   \n",
       "75173  The room condition is older than shown on the ...          -0.223859   \n",
       "75285  Incredible She calculated the time from the ai...          -0.364690   \n",
       "75308  Prosbr Raynald is a very attentive host and ea...          -0.381237   \n",
       "75864  Dawn  Vernons place was a nice home to stay in...          -0.339333   \n",
       "\n",
       "      sentiment_category  \n",
       "45                   bad  \n",
       "215                  bad  \n",
       "250                  bad  \n",
       "457                  bad  \n",
       "577                  bad  \n",
       "...                  ...  \n",
       "75106                bad  \n",
       "75173                bad  \n",
       "75285                bad  \n",
       "75308                bad  \n",
       "75864                bad  \n",
       "\n",
       "[427 rows x 7 columns]"
      ]
     },
     "execution_count": 268,
     "metadata": {},
     "output_type": "execute_result"
    }
   ],
   "source": [
    "df_final_sentiment[df_final_sentiment[\"sentiment_category\"] == \"bad\"]"
   ]
  },
  {
   "cell_type": "code",
   "execution_count": 269,
   "id": "2bb28b3f-543b-4916-9456-f270c777085c",
   "metadata": {},
   "outputs": [],
   "source": [
    "df_joined = pd.merge(df_final_sentiment, df_fin, left_on=\"listing_id\", right_on=\"id\", how=\"left\")"
   ]
  },
  {
   "cell_type": "code",
   "execution_count": 270,
   "id": "3f61c574-5aa7-41c3-b1f2-96d975aff4b2",
   "metadata": {},
   "outputs": [],
   "source": [
    "df_joined = df_joined.dropna(subset=[\"id\"])"
   ]
  },
  {
   "cell_type": "code",
   "execution_count": 272,
   "id": "99c472db-2ef0-45fe-8a7f-e6ea3c503d7c",
   "metadata": {},
   "outputs": [
    {
     "data": {
      "text/html": [
       "<div>\n",
       "<style scoped>\n",
       "    .dataframe tbody tr th:only-of-type {\n",
       "        vertical-align: middle;\n",
       "    }\n",
       "\n",
       "    .dataframe tbody tr th {\n",
       "        vertical-align: top;\n",
       "    }\n",
       "\n",
       "    .dataframe thead th {\n",
       "        text-align: right;\n",
       "    }\n",
       "</style>\n",
       "<table border=\"1\" class=\"dataframe\">\n",
       "  <thead>\n",
       "    <tr style=\"text-align: right;\">\n",
       "      <th></th>\n",
       "      <th>listing_id</th>\n",
       "      <th>com_neg_s</th>\n",
       "      <th>com_neu_s</th>\n",
       "      <th>com_pos_s</th>\n",
       "      <th>comments</th>\n",
       "      <th>average_sentiment</th>\n",
       "      <th>sentiment_category</th>\n",
       "      <th>id</th>\n",
       "      <th>source</th>\n",
       "      <th>name</th>\n",
       "      <th>...</th>\n",
       "      <th>calculated_host_listings_count</th>\n",
       "      <th>private_bathroom</th>\n",
       "      <th>shared_bathroom</th>\n",
       "      <th>room_type_Entire home/apt</th>\n",
       "      <th>room_type_Hotel room</th>\n",
       "      <th>room_type_Private room</th>\n",
       "      <th>room_type_Shared room</th>\n",
       "      <th>host_response_rate_category</th>\n",
       "      <th>host_acceptance_rate_category</th>\n",
       "      <th>cluster</th>\n",
       "    </tr>\n",
       "  </thead>\n",
       "  <tbody>\n",
       "    <tr>\n",
       "      <th>0</th>\n",
       "      <td>2595</td>\n",
       "      <td>0.005796</td>\n",
       "      <td>0.054793</td>\n",
       "      <td>0.939411</td>\n",
       "      <td>Great experience</td>\n",
       "      <td>0.933614</td>\n",
       "      <td>very good</td>\n",
       "      <td>2595.0</td>\n",
       "      <td>city scrape</td>\n",
       "      <td>3</td>\n",
       "      <td>...</td>\n",
       "      <td>3.0</td>\n",
       "      <td>1.0</td>\n",
       "      <td>0.0</td>\n",
       "      <td>True</td>\n",
       "      <td>False</td>\n",
       "      <td>False</td>\n",
       "      <td>False</td>\n",
       "      <td>3.0</td>\n",
       "      <td>1.0</td>\n",
       "      <td>0.0</td>\n",
       "    </tr>\n",
       "    <tr>\n",
       "      <th>1</th>\n",
       "      <td>2595</td>\n",
       "      <td>0.001715</td>\n",
       "      <td>0.006951</td>\n",
       "      <td>0.991333</td>\n",
       "      <td>Ive stayed with my friend at the Midtown Castl...</td>\n",
       "      <td>0.989618</td>\n",
       "      <td>very good</td>\n",
       "      <td>2595.0</td>\n",
       "      <td>city scrape</td>\n",
       "      <td>3</td>\n",
       "      <td>...</td>\n",
       "      <td>3.0</td>\n",
       "      <td>1.0</td>\n",
       "      <td>0.0</td>\n",
       "      <td>True</td>\n",
       "      <td>False</td>\n",
       "      <td>False</td>\n",
       "      <td>False</td>\n",
       "      <td>3.0</td>\n",
       "      <td>1.0</td>\n",
       "      <td>0.0</td>\n",
       "    </tr>\n",
       "    <tr>\n",
       "      <th>2</th>\n",
       "      <td>2595</td>\n",
       "      <td>0.002113</td>\n",
       "      <td>0.030226</td>\n",
       "      <td>0.967661</td>\n",
       "      <td>Weve been staying here for about 9 nights enjo...</td>\n",
       "      <td>0.965549</td>\n",
       "      <td>very good</td>\n",
       "      <td>2595.0</td>\n",
       "      <td>city scrape</td>\n",
       "      <td>3</td>\n",
       "      <td>...</td>\n",
       "      <td>3.0</td>\n",
       "      <td>1.0</td>\n",
       "      <td>0.0</td>\n",
       "      <td>True</td>\n",
       "      <td>False</td>\n",
       "      <td>False</td>\n",
       "      <td>False</td>\n",
       "      <td>3.0</td>\n",
       "      <td>1.0</td>\n",
       "      <td>0.0</td>\n",
       "    </tr>\n",
       "    <tr>\n",
       "      <th>3</th>\n",
       "      <td>2595</td>\n",
       "      <td>0.001277</td>\n",
       "      <td>0.007899</td>\n",
       "      <td>0.990824</td>\n",
       "      <td>We had a wonderful stay at Jennifers charming ...</td>\n",
       "      <td>0.989546</td>\n",
       "      <td>very good</td>\n",
       "      <td>2595.0</td>\n",
       "      <td>city scrape</td>\n",
       "      <td>3</td>\n",
       "      <td>...</td>\n",
       "      <td>3.0</td>\n",
       "      <td>1.0</td>\n",
       "      <td>0.0</td>\n",
       "      <td>True</td>\n",
       "      <td>False</td>\n",
       "      <td>False</td>\n",
       "      <td>False</td>\n",
       "      <td>3.0</td>\n",
       "      <td>1.0</td>\n",
       "      <td>0.0</td>\n",
       "    </tr>\n",
       "    <tr>\n",
       "      <th>4</th>\n",
       "      <td>2595</td>\n",
       "      <td>0.001034</td>\n",
       "      <td>0.012407</td>\n",
       "      <td>0.986559</td>\n",
       "      <td>Hi to everyonebrWould say our greatest complim...</td>\n",
       "      <td>0.985525</td>\n",
       "      <td>very good</td>\n",
       "      <td>2595.0</td>\n",
       "      <td>city scrape</td>\n",
       "      <td>3</td>\n",
       "      <td>...</td>\n",
       "      <td>3.0</td>\n",
       "      <td>1.0</td>\n",
       "      <td>0.0</td>\n",
       "      <td>True</td>\n",
       "      <td>False</td>\n",
       "      <td>False</td>\n",
       "      <td>False</td>\n",
       "      <td>3.0</td>\n",
       "      <td>1.0</td>\n",
       "      <td>0.0</td>\n",
       "    </tr>\n",
       "  </tbody>\n",
       "</table>\n",
       "<p>5 rows × 47 columns</p>\n",
       "</div>"
      ],
      "text/plain": [
       "   listing_id  com_neg_s  com_neu_s  com_pos_s  \\\n",
       "0        2595   0.005796   0.054793   0.939411   \n",
       "1        2595   0.001715   0.006951   0.991333   \n",
       "2        2595   0.002113   0.030226   0.967661   \n",
       "3        2595   0.001277   0.007899   0.990824   \n",
       "4        2595   0.001034   0.012407   0.986559   \n",
       "\n",
       "                                            comments  average_sentiment  \\\n",
       "0                                   Great experience           0.933614   \n",
       "1  Ive stayed with my friend at the Midtown Castl...           0.989618   \n",
       "2  Weve been staying here for about 9 nights enjo...           0.965549   \n",
       "3  We had a wonderful stay at Jennifers charming ...           0.989546   \n",
       "4  Hi to everyonebrWould say our greatest complim...           0.985525   \n",
       "\n",
       "  sentiment_category      id       source name  ...  \\\n",
       "0          very good  2595.0  city scrape    3  ...   \n",
       "1          very good  2595.0  city scrape    3  ...   \n",
       "2          very good  2595.0  city scrape    3  ...   \n",
       "3          very good  2595.0  city scrape    3  ...   \n",
       "4          very good  2595.0  city scrape    3  ...   \n",
       "\n",
       "  calculated_host_listings_count private_bathroom  shared_bathroom  \\\n",
       "0                            3.0              1.0              0.0   \n",
       "1                            3.0              1.0              0.0   \n",
       "2                            3.0              1.0              0.0   \n",
       "3                            3.0              1.0              0.0   \n",
       "4                            3.0              1.0              0.0   \n",
       "\n",
       "  room_type_Entire home/apt  room_type_Hotel room room_type_Private room  \\\n",
       "0                      True                 False                  False   \n",
       "1                      True                 False                  False   \n",
       "2                      True                 False                  False   \n",
       "3                      True                 False                  False   \n",
       "4                      True                 False                  False   \n",
       "\n",
       "  room_type_Shared room host_response_rate_category  \\\n",
       "0                 False                         3.0   \n",
       "1                 False                         3.0   \n",
       "2                 False                         3.0   \n",
       "3                 False                         3.0   \n",
       "4                 False                         3.0   \n",
       "\n",
       "  host_acceptance_rate_category cluster  \n",
       "0                           1.0     0.0  \n",
       "1                           1.0     0.0  \n",
       "2                           1.0     0.0  \n",
       "3                           1.0     0.0  \n",
       "4                           1.0     0.0  \n",
       "\n",
       "[5 rows x 47 columns]"
      ]
     },
     "execution_count": 272,
     "metadata": {},
     "output_type": "execute_result"
    }
   ],
   "source": [
    "df_joined.head()"
   ]
  },
  {
   "cell_type": "markdown",
   "id": "4602201d-7894-4301-82fc-f010889cdcf8",
   "metadata": {},
   "source": [
    "### Frequent item analysis"
   ]
  },
  {
   "cell_type": "code",
   "execution_count": null,
   "id": "821b8339-7ee4-415a-8f8c-8a6c5214d6dc",
   "metadata": {},
   "outputs": [],
   "source": []
  }
 ],
 "metadata": {
  "kernelspec": {
   "display_name": "Python 3 (ipykernel)",
   "language": "python",
   "name": "python3"
  },
  "language_info": {
   "codemirror_mode": {
    "name": "ipython",
    "version": 3
   },
   "file_extension": ".py",
   "mimetype": "text/x-python",
   "name": "python",
   "nbconvert_exporter": "python",
   "pygments_lexer": "ipython3",
   "version": "3.10.11"
  }
 },
 "nbformat": 4,
 "nbformat_minor": 5
}
