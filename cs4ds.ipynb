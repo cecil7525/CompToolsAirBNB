{
 "cells": [
  {
   "cell_type": "markdown",
   "id": "947d7b21-9d2b-408d-8f2f-2922f65d9376",
   "metadata": {},
   "source": [
    "# Computational Tools for Data Science Main Notebook\n",
    "# Authored by:\n",
    "## Cecilie Haslund Bertelsen - s201700\n",
    "## Mustafa Berkay Akbulut - s242540\n",
    "## Georgios Fragkiadoulakis - s242831"
   ]
  },
  {
   "cell_type": "code",
   "execution_count": 1,
   "id": "6573b4ad-31b0-4f88-8d85-f7ab5375159d",
   "metadata": {},
   "outputs": [],
   "source": [
    "import pandas as pd\n",
    "import numpy as np\n",
    "from sklearn.preprocessing import OneHotEncoder, StandardScaler\n",
    "from sklearn.cluster import KMeans, DBSCAN\n",
    "import matplotlib.pyplot as plt\n",
    "from sklearn.svm import SVC\n",
    "from sklearn.inspection import permutation_importance\n",
    "import warnings\n",
    "warnings.filterwarnings('ignore')"
   ]
  },
  {
   "cell_type": "markdown",
   "id": "8911fc9c-90ce-4df9-9c47-a92d72babd5e",
   "metadata": {},
   "source": [
    "# Data Cleaning"
   ]
  },
  {
   "cell_type": "markdown",
   "id": "46b977e3-e0cf-4d4a-abe4-a50c041037ff",
   "metadata": {},
   "source": [
    "### This part is done by our ex-team member <strong>Mona</strong> before she drop the course </b>\n",
    "You can access the notebook using the following link https://github.com/cecil7525/CompToolsAirBNB/blob/main/DataCleanse.ipynb"
   ]
  },
  {
   "cell_type": "code",
   "execution_count": 2,
   "id": "9e785a8d-2e22-4319-8da6-9d7acb8e1cc5",
   "metadata": {},
   "outputs": [
    {
     "data": {
      "text/html": [
       "<div>\n",
       "<style scoped>\n",
       "    .dataframe tbody tr th:only-of-type {\n",
       "        vertical-align: middle;\n",
       "    }\n",
       "\n",
       "    .dataframe tbody tr th {\n",
       "        vertical-align: top;\n",
       "    }\n",
       "\n",
       "    .dataframe thead th {\n",
       "        text-align: right;\n",
       "    }\n",
       "</style>\n",
       "<table border=\"1\" class=\"dataframe\">\n",
       "  <thead>\n",
       "    <tr style=\"text-align: right;\">\n",
       "      <th></th>\n",
       "      <th>id</th>\n",
       "      <th>source</th>\n",
       "      <th>name</th>\n",
       "      <th>description</th>\n",
       "      <th>neighborhood_overview</th>\n",
       "      <th>host_id</th>\n",
       "      <th>host_name</th>\n",
       "      <th>days_as_host</th>\n",
       "      <th>host_in_NY</th>\n",
       "      <th>host_about</th>\n",
       "      <th>...</th>\n",
       "      <th>instant_bookable</th>\n",
       "      <th>calculated_host_listings_count</th>\n",
       "      <th>private_bathroom</th>\n",
       "      <th>shared_bathroom</th>\n",
       "      <th>room_type_Entire home/apt</th>\n",
       "      <th>room_type_Hotel room</th>\n",
       "      <th>room_type_Private room</th>\n",
       "      <th>room_type_Shared room</th>\n",
       "      <th>host_response_rate_int</th>\n",
       "      <th>host_acceptance_rate_int</th>\n",
       "    </tr>\n",
       "  </thead>\n",
       "  <tbody>\n",
       "    <tr>\n",
       "      <th>0</th>\n",
       "      <td>572612125615500056</td>\n",
       "      <td>city scrape</td>\n",
       "      <td>10</td>\n",
       "      <td>76</td>\n",
       "      <td>0</td>\n",
       "      <td>358089614</td>\n",
       "      <td>Joshua</td>\n",
       "      <td>1505</td>\n",
       "      <td>True</td>\n",
       "      <td>0</td>\n",
       "      <td>...</td>\n",
       "      <td>True</td>\n",
       "      <td>2</td>\n",
       "      <td>0.0</td>\n",
       "      <td>1.0</td>\n",
       "      <td>False</td>\n",
       "      <td>False</td>\n",
       "      <td>True</td>\n",
       "      <td>False</td>\n",
       "      <td>100</td>\n",
       "      <td>94</td>\n",
       "    </tr>\n",
       "    <tr>\n",
       "      <th>1</th>\n",
       "      <td>45267941</td>\n",
       "      <td>city scrape</td>\n",
       "      <td>5</td>\n",
       "      <td>0</td>\n",
       "      <td>0</td>\n",
       "      <td>39162543</td>\n",
       "      <td>Jeff</td>\n",
       "      <td>3334</td>\n",
       "      <td>True</td>\n",
       "      <td>0</td>\n",
       "      <td>...</td>\n",
       "      <td>False</td>\n",
       "      <td>3</td>\n",
       "      <td>0.0</td>\n",
       "      <td>1.0</td>\n",
       "      <td>False</td>\n",
       "      <td>False</td>\n",
       "      <td>True</td>\n",
       "      <td>False</td>\n",
       "      <td>100</td>\n",
       "      <td>77</td>\n",
       "    </tr>\n",
       "    <tr>\n",
       "      <th>2</th>\n",
       "      <td>838141198693830649</td>\n",
       "      <td>city scrape</td>\n",
       "      <td>4</td>\n",
       "      <td>0</td>\n",
       "      <td>0</td>\n",
       "      <td>148571080</td>\n",
       "      <td>David</td>\n",
       "      <td>2562</td>\n",
       "      <td>False</td>\n",
       "      <td>63</td>\n",
       "      <td>...</td>\n",
       "      <td>False</td>\n",
       "      <td>5</td>\n",
       "      <td>2.0</td>\n",
       "      <td>0.0</td>\n",
       "      <td>True</td>\n",
       "      <td>False</td>\n",
       "      <td>False</td>\n",
       "      <td>False</td>\n",
       "      <td>0</td>\n",
       "      <td>0</td>\n",
       "    </tr>\n",
       "  </tbody>\n",
       "</table>\n",
       "<p>3 rows × 39 columns</p>\n",
       "</div>"
      ],
      "text/plain": [
       "                   id       source  name  description  neighborhood_overview  \\\n",
       "0  572612125615500056  city scrape    10           76                      0   \n",
       "1            45267941  city scrape     5            0                      0   \n",
       "2  838141198693830649  city scrape     4            0                      0   \n",
       "\n",
       "     host_id host_name  days_as_host  host_in_NY  host_about  ...  \\\n",
       "0  358089614    Joshua          1505        True           0  ...   \n",
       "1   39162543      Jeff          3334        True           0  ...   \n",
       "2  148571080     David          2562       False          63  ...   \n",
       "\n",
       "  instant_bookable calculated_host_listings_count  private_bathroom  \\\n",
       "0             True                              2               0.0   \n",
       "1            False                              3               0.0   \n",
       "2            False                              5               2.0   \n",
       "\n",
       "   shared_bathroom  room_type_Entire home/apt  room_type_Hotel room  \\\n",
       "0              1.0                      False                 False   \n",
       "1              1.0                      False                 False   \n",
       "2              0.0                       True                 False   \n",
       "\n",
       "  room_type_Private room room_type_Shared room  host_response_rate_int  \\\n",
       "0                   True                 False                     100   \n",
       "1                   True                 False                     100   \n",
       "2                  False                 False                       0   \n",
       "\n",
       "   host_acceptance_rate_int  \n",
       "0                        94  \n",
       "1                        77  \n",
       "2                         0  \n",
       "\n",
       "[3 rows x 39 columns]"
      ]
     },
     "execution_count": 2,
     "metadata": {},
     "output_type": "execute_result"
    }
   ],
   "source": [
    "df= pd.read_csv(\"./data_cleansed.csv\")\n",
    "df.head(3)"
   ]
  },
  {
   "cell_type": "markdown",
   "id": "e30bdd9e-0d81-4e39-ab1e-ae5f92f7d680",
   "metadata": {},
   "source": [
    "# Data Engineering"
   ]
  },
  {
   "cell_type": "markdown",
   "id": "d640c1ad-de17-4b5a-8e00-a078ca98f9e7",
   "metadata": {},
   "source": [
    "### In this part, we are preparing our data to be used in clustering. We convert our all features in the dataframe to numerical data"
   ]
  },
  {
   "cell_type": "markdown",
   "id": "6e5356ce-4907-4840-8e2c-ee5a6b8b46df",
   "metadata": {},
   "source": [
    "#### First, we merged sentiment scores of names and decriptions of the listings. Because we wanted to see how much name and description positiveness effects the reviews\n",
    "To see how sentiment scores of names and descriptions obtained using RoBERTa model, you can follow the following link https://github.com/cecil7525/CompToolsAirBNB/blob/sentiment/senti.ipynb"
   ]
  },
  {
   "cell_type": "code",
   "execution_count": 3,
   "id": "565b1ce3-4487-485a-a6aa-6a76aa3d5226",
   "metadata": {},
   "outputs": [],
   "source": [
    "df_name_desc = pd.read_csv(\"./NYtrans6.csv\")\n",
    "df_name_desc = df_name_desc[[\"id\", \"name_sent\", \"desc_sent\"]]"
   ]
  },
  {
   "cell_type": "code",
   "execution_count": 4,
   "id": "4a8dcf43-ec6c-48f1-96a0-acc206da20ad",
   "metadata": {},
   "outputs": [],
   "source": [
    "df = pd.merge(df, df_name_desc, on=[\"id\"], how=\"inner\")"
   ]
  },
  {
   "cell_type": "code",
   "execution_count": 5,
   "id": "756d29d4-ad9e-4d6e-8eb4-1b011a9b6278",
   "metadata": {},
   "outputs": [],
   "source": [
    "# The columns that are considered to use in clustering\n",
    "columns_considered = [\"name_sent\", \"desc_sent\", \"days_as_host\", \"host_in_NY\",\n",
    "                      \"host_about\", \"host_response_rate_int\", \"host_acceptance_rate_int\", \"host_is_superhost\", \n",
    "                      \"host_verifications\", \"host_has_profile_pic\", \"host_identity_verified\", \"accommodates\", \"bathrooms\", \n",
    "                      \"bedrooms\", \"beds\", \"amenities\", \"price\", \"minimum_nights\", \"maximum_nights\", \"availability_365\", \"number_of_reviews\",\n",
    "                      \"instant_bookable\", \"calculated_host_listings_count\", \"private_bathroom\", \"shared_bathroom\", \n",
    "                      \"room_type_Entire home/apt\", \"room_type_Hotel room\", \"room_type_Private room\", \"room_type_Shared room\"]"
   ]
  },
  {
   "cell_type": "code",
   "execution_count": 6,
   "id": "d6fbaf24-b483-46b8-847a-c83c35ac823f",
   "metadata": {},
   "outputs": [],
   "source": [
    "##id's stored in a different variable since it will not be included in clustering but later they will be added after clustering\n",
    "ids = df[\"id\"]"
   ]
  },
  {
   "cell_type": "code",
   "execution_count": 8,
   "id": "e02548bd-5494-411e-9268-6e787192ad42",
   "metadata": {},
   "outputs": [
    {
     "data": {
      "text/html": [
       "<div>\n",
       "<style scoped>\n",
       "    .dataframe tbody tr th:only-of-type {\n",
       "        vertical-align: middle;\n",
       "    }\n",
       "\n",
       "    .dataframe tbody tr th {\n",
       "        vertical-align: top;\n",
       "    }\n",
       "\n",
       "    .dataframe thead th {\n",
       "        text-align: right;\n",
       "    }\n",
       "</style>\n",
       "<table border=\"1\" class=\"dataframe\">\n",
       "  <thead>\n",
       "    <tr style=\"text-align: right;\">\n",
       "      <th></th>\n",
       "      <th>name_sent</th>\n",
       "      <th>desc_sent</th>\n",
       "      <th>days_as_host</th>\n",
       "      <th>host_in_NY</th>\n",
       "      <th>host_about</th>\n",
       "      <th>host_response_rate_int</th>\n",
       "      <th>host_acceptance_rate_int</th>\n",
       "      <th>host_is_superhost</th>\n",
       "      <th>host_verifications</th>\n",
       "      <th>host_has_profile_pic</th>\n",
       "      <th>...</th>\n",
       "      <th>availability_365</th>\n",
       "      <th>number_of_reviews</th>\n",
       "      <th>instant_bookable</th>\n",
       "      <th>calculated_host_listings_count</th>\n",
       "      <th>private_bathroom</th>\n",
       "      <th>shared_bathroom</th>\n",
       "      <th>room_type_Entire home/apt</th>\n",
       "      <th>room_type_Hotel room</th>\n",
       "      <th>room_type_Private room</th>\n",
       "      <th>room_type_Shared room</th>\n",
       "    </tr>\n",
       "  </thead>\n",
       "  <tbody>\n",
       "    <tr>\n",
       "      <th>0</th>\n",
       "      <td>1</td>\n",
       "      <td>2</td>\n",
       "      <td>1505</td>\n",
       "      <td>True</td>\n",
       "      <td>0</td>\n",
       "      <td>100</td>\n",
       "      <td>94</td>\n",
       "      <td>True</td>\n",
       "      <td>2</td>\n",
       "      <td>True</td>\n",
       "      <td>...</td>\n",
       "      <td>336</td>\n",
       "      <td>6</td>\n",
       "      <td>True</td>\n",
       "      <td>2</td>\n",
       "      <td>0.0</td>\n",
       "      <td>1.0</td>\n",
       "      <td>False</td>\n",
       "      <td>False</td>\n",
       "      <td>True</td>\n",
       "      <td>False</td>\n",
       "    </tr>\n",
       "    <tr>\n",
       "      <th>1</th>\n",
       "      <td>1</td>\n",
       "      <td>2</td>\n",
       "      <td>5839</td>\n",
       "      <td>True</td>\n",
       "      <td>0</td>\n",
       "      <td>100</td>\n",
       "      <td>0</td>\n",
       "      <td>False</td>\n",
       "      <td>2</td>\n",
       "      <td>True</td>\n",
       "      <td>...</td>\n",
       "      <td>311</td>\n",
       "      <td>2</td>\n",
       "      <td>False</td>\n",
       "      <td>1</td>\n",
       "      <td>1.0</td>\n",
       "      <td>0.0</td>\n",
       "      <td>True</td>\n",
       "      <td>False</td>\n",
       "      <td>False</td>\n",
       "      <td>False</td>\n",
       "    </tr>\n",
       "    <tr>\n",
       "      <th>2</th>\n",
       "      <td>2</td>\n",
       "      <td>2</td>\n",
       "      <td>4823</td>\n",
       "      <td>True</td>\n",
       "      <td>74</td>\n",
       "      <td>100</td>\n",
       "      <td>0</td>\n",
       "      <td>False</td>\n",
       "      <td>1</td>\n",
       "      <td>True</td>\n",
       "      <td>...</td>\n",
       "      <td>154</td>\n",
       "      <td>8</td>\n",
       "      <td>False</td>\n",
       "      <td>1</td>\n",
       "      <td>2.0</td>\n",
       "      <td>0.0</td>\n",
       "      <td>True</td>\n",
       "      <td>False</td>\n",
       "      <td>False</td>\n",
       "      <td>False</td>\n",
       "    </tr>\n",
       "  </tbody>\n",
       "</table>\n",
       "<p>3 rows × 29 columns</p>\n",
       "</div>"
      ],
      "text/plain": [
       "   name_sent  desc_sent  days_as_host  host_in_NY  host_about  \\\n",
       "0          1          2          1505        True           0   \n",
       "1          1          2          5839        True           0   \n",
       "2          2          2          4823        True          74   \n",
       "\n",
       "   host_response_rate_int  host_acceptance_rate_int  host_is_superhost  \\\n",
       "0                     100                        94               True   \n",
       "1                     100                         0              False   \n",
       "2                     100                         0              False   \n",
       "\n",
       "   host_verifications  host_has_profile_pic  ...  availability_365  \\\n",
       "0                   2                  True  ...               336   \n",
       "1                   2                  True  ...               311   \n",
       "2                   1                  True  ...               154   \n",
       "\n",
       "   number_of_reviews  instant_bookable  calculated_host_listings_count  \\\n",
       "0                  6              True                               2   \n",
       "1                  2             False                               1   \n",
       "2                  8             False                               1   \n",
       "\n",
       "   private_bathroom  shared_bathroom  room_type_Entire home/apt  \\\n",
       "0               0.0              1.0                      False   \n",
       "1               1.0              0.0                       True   \n",
       "2               2.0              0.0                       True   \n",
       "\n",
       "   room_type_Hotel room  room_type_Private room  room_type_Shared room  \n",
       "0                 False                    True                  False  \n",
       "1                 False                   False                  False  \n",
       "2                 False                   False                  False  \n",
       "\n",
       "[3 rows x 29 columns]"
      ]
     },
     "execution_count": 8,
     "metadata": {},
     "output_type": "execute_result"
    }
   ],
   "source": [
    "df_final = df[columns_considered]\n",
    "df_final.head(3)"
   ]
  },
  {
   "cell_type": "code",
   "execution_count": 9,
   "id": "6daa2b7c-2b5a-4ea1-80a2-9728ae757123",
   "metadata": {
    "scrolled": true
   },
   "outputs": [],
   "source": [
    "#small modifications an some columns since they are not identified as number by pandas\n",
    "df_final[\"host_about\"] = df_final[\"host_about\"].astype(\"int\")\n",
    "df_final[\"host_verifications\"] = df_final[\"host_verifications\"].astype(\"int\")\n",
    "df_final[\"amenities\"] = df_final[\"amenities\"].astype(\"int\")\n",
    "df_final[[\"host_in_NY\", \"host_is_superhost\"]] = df_final[[\"host_in_NY\", \"host_is_superhost\"]].astype(\"bool\")"
   ]
  },
  {
   "cell_type": "code",
   "execution_count": 10,
   "id": "af7410cc-5eea-47d9-9d2d-92e8a6816af9",
   "metadata": {},
   "outputs": [],
   "source": [
    "#selection of numerical and boolean columns. The boolean columns are also converted to numericals\n",
    "numerical_cols = df_final.select_dtypes(include=[np.number]).columns.tolist()\n",
    "boolean_cols = df_final.select_dtypes(include=[bool]).columns.tolist()\n",
    "df_final[boolean_cols] = df_final[boolean_cols].astype(int)"
   ]
  },
  {
   "cell_type": "code",
   "execution_count": 11,
   "id": "86cd4d7e-288c-4638-89c8-2625aa101dac",
   "metadata": {},
   "outputs": [],
   "source": [
    "#Scaling numbers since we don't want to larger magnitudes dominate the clustering\n",
    "scaler = StandardScaler()\n",
    "numerical_and_boolean = df_final[numerical_cols + boolean_cols]\n",
    "scaled_numerical_boolean = scaler.fit_transform(numerical_and_boolean)"
   ]
  },
  {
   "cell_type": "code",
   "execution_count": 12,
   "id": "01215b82-325c-405a-a553-83dd2e5f8b57",
   "metadata": {},
   "outputs": [],
   "source": [
    "preprocessed_df = pd.DataFrame(scaled_numerical_boolean, columns=numerical_cols + boolean_cols)"
   ]
  },
  {
   "cell_type": "markdown",
   "id": "8c093956-8534-4d57-9ebb-0205177eee1c",
   "metadata": {},
   "source": [
    "#### Now we have converted and scaled dataframe ready to be clustered"
   ]
  },
  {
   "cell_type": "markdown",
   "id": "6f795429-8373-4a7e-95c9-f073a267f3ae",
   "metadata": {},
   "source": [
    "# Clustering"
   ]
  },
  {
   "cell_type": "markdown",
   "id": "3e981030-e22f-4709-88ce-e892cc90a473",
   "metadata": {},
   "source": [
    "## In this part, we are clustering the listings since we want to see how attributes are changing inter-clusters"
   ]
  },
  {
   "cell_type": "markdown",
   "id": "a6d1c1b0-fe28-4e69-90b3-e54add101b5f",
   "metadata": {},
   "source": [
    "### DBSCAN Clustering"
   ]
  },
  {
   "cell_type": "markdown",
   "id": "f3108bd7-000e-46bc-9c1c-8f83b11d35a7",
   "metadata": {},
   "source": [
    "##### DBSCAN algorithm needs two parameters beforehand. First, epsilon which indicates the maximum distance between two points for them to be considered as neighbors. The second is min_points which is the minimum number of points required to form a dense region.\n",
    "##### Finding epsilon value: The k-distance graph is used to find the optimal epsilon value in the DBSCAN algorithm. The distance value at the curve point on the graph gives the value"
   ]
  },
  {
   "cell_type": "code",
   "execution_count": 13,
   "id": "8464ed99-618b-461f-bc54-a5a8a61ecd81",
   "metadata": {},
   "outputs": [
    {
     "data": {
      "image/png": "[encoded data removed]",
      "text/plain": [
       "<Figure size 1000x600 with 1 Axes>"
      ]
     },
     "metadata": {},
     "output_type": "display_data"
    }
   ],
   "source": [
    "from sklearn.neighbors import NearestNeighbors\n",
    "\n",
    "# setting min_samples for the DBSCAN => rule of thumb: two times of dimension of the dataframe\n",
    "min_samples = len(df_final.columns)*2  # Set your min_samples for DBSCAN\n",
    "\n",
    "# Fit Nearest Neighbors\n",
    "nbrs = NearestNeighbors(n_neighbors=min_samples).fit(preprocessed_df)\n",
    "distances, indices = nbrs.kneighbors(preprocessed_df)\n",
    "\n",
    "# Get the distances to the k-th nearest neighbor (min_samples)\n",
    "k_distance = distances[:, min_samples - 1]  # Selecting the distance to the min_samples-neighbor\n",
    "\n",
    "# Sort the K-distance\n",
    "k_distance_sorted = np.sort(k_distance)\n",
    "\n",
    "# Plot the K-distance graph\n",
    "plt.figure(figsize=(10, 6))\n",
    "plt.plot(k_distance_sorted)\n",
    "plt.title('K-distance Plot')\n",
    "plt.xlabel('Points sorted by distance')\n",
    "plt.ylabel(f'Distance to {min_samples}-th nearest neighbor')\n",
    "plt.grid(True)\n",
    "plt.show()"
   ]
  },
  {
   "cell_type": "markdown",
   "id": "0ba972e2-c067-49d2-b7ed-c94531d779d5",
   "metadata": {},
   "source": [
    "##### We choose the epsilon value as 7 in this case "
   ]
  },
  {
   "cell_type": "code",
   "execution_count": 14,
   "id": "79424efc-bdf0-4808-af0a-7a27359af959",
   "metadata": {},
   "outputs": [],
   "source": [
    "eps = 7  # Maximum distance between two samples for them to be considered as in the same neighborhood chosen from graph\n",
    "\n",
    "dbscan = DBSCAN(eps=eps, min_samples=min_samples)\n",
    "clusters = dbscan.fit_predict(preprocessed_df)\n",
    "\n",
    "# Add cluster labels to the original data\n",
    "df_final['cluster'] = clusters"
   ]
  },
  {
   "cell_type": "code",
   "execution_count": 15,
   "id": "d171e88f-6e63-437c-8969-b2d4329ac939",
   "metadata": {},
   "outputs": [
    {
     "name": "stdout",
     "output_type": "stream",
     "text": [
      "Estimated number of clusters: 4\n",
      "Estimated number of noise points: 37\n"
     ]
    }
   ],
   "source": [
    "# Count clusters and noise points\n",
    "n_clusters = len(set(clusters)) - (1 if -1 in clusters else 0)  # -1 indicates noise\n",
    "n_noise = list(clusters).count(-1)\n",
    "\n",
    "print(f'Estimated number of clusters: {n_clusters}')\n",
    "print(f'Estimated number of noise points: {n_noise}')"
   ]
  },
  {
   "cell_type": "markdown",
   "id": "48b767e1-7f32-423f-8d6f-31cd47215ba8",
   "metadata": {},
   "source": [
    "##### We have found 4 clusters and 37 noise points"
   ]
  },
  {
   "cell_type": "markdown",
   "id": "b640a934-4cdc-40ce-85b0-b3375048cbfd",
   "metadata": {},
   "source": [
    "#### We used a Support Vector Classifier (SVC) to understand the most significant columns considered in clustering. We trained the SVC model and used permutation importance to see which features are contributed most"
   ]
  },
  {
   "cell_type": "code",
   "execution_count": 168,
   "id": "1b139683-0827-41a8-8a9a-390b318a3f94",
   "metadata": {},
   "outputs": [
    {
     "data": {
      "text/html": [
       "<div>\n",
       "<style scoped>\n",
       "    .dataframe tbody tr th:only-of-type {\n",
       "        vertical-align: middle;\n",
       "    }\n",
       "\n",
       "    .dataframe tbody tr th {\n",
       "        vertical-align: top;\n",
       "    }\n",
       "\n",
       "    .dataframe thead th {\n",
       "        text-align: right;\n",
       "    }\n",
       "</style>\n",
       "<table border=\"1\" class=\"dataframe\">\n",
       "  <thead>\n",
       "    <tr style=\"text-align: right;\">\n",
       "      <th></th>\n",
       "      <th>Feature</th>\n",
       "      <th>Importance</th>\n",
       "    </tr>\n",
       "  </thead>\n",
       "  <tbody>\n",
       "    <tr>\n",
       "      <th>22</th>\n",
       "      <td>host_has_profile_pic</td>\n",
       "      <td>0.031655</td>\n",
       "    </tr>\n",
       "    <tr>\n",
       "      <th>28</th>\n",
       "      <td>room_type_Shared room</td>\n",
       "      <td>0.015173</td>\n",
       "    </tr>\n",
       "    <tr>\n",
       "      <th>26</th>\n",
       "      <td>room_type_Hotel room</td>\n",
       "      <td>0.013944</td>\n",
       "    </tr>\n",
       "  </tbody>\n",
       "</table>\n",
       "</div>"
      ],
      "text/plain": [
       "                  Feature  Importance\n",
       "22   host_has_profile_pic    0.031655\n",
       "28  room_type_Shared room    0.015173\n",
       "26   room_type_Hotel room    0.013944"
      ]
     },
     "execution_count": 168,
     "metadata": {},
     "output_type": "execute_result"
    }
   ],
   "source": [
    "X = preprocessed_df  # Features\n",
    "y = df_final['cluster']  # Targets based on clustering\n",
    "\n",
    "#Support Vector Classifier with rbf kernel to assess non-linear relationships\n",
    "rf_model = SVC(kernel=\"rbf\")\n",
    "rf_model.fit(X, y)\n",
    "\n",
    "#Feature Importances\n",
    "feature_importance = permutation_importance(rf_model, X, y, n_repeats=10, random_state=45)\n",
    "\n",
    "#creating a datadrame to assess the results\n",
    "feature_names = X.columns\n",
    "feature_importances_df = pd.DataFrame({'Feature': feature_names, 'Importance': feature_importance.importances_mean})\n",
    "\n",
    "#sort feature importances\n",
    "feature_importances_df = feature_importances_df.sort_values(by='Importance', ascending=False)\n",
    "\n",
    "feature_importances_df.head(3)"
   ]
  },
  {
   "cell_type": "markdown",
   "id": "61926c5e-a188-45ab-8bda-1059d491d818",
   "metadata": {},
   "source": [
    "#### As you can see, most significant features are considered as whether the host has profile picture and the room type \n",
    "#### Therefore, we ended up with the generated clusters as follows:\n",
    "1. Host has profile picture and room type is Entire home\n",
    "2. Host has profile picture and room type is private room\n",
    "5. Host has profile picture and room type is shared room\n",
    "6. Host has no profile picture and room type is either Entire home or private room"
   ]
  },
  {
   "cell_type": "markdown",
   "id": "4602201d-7894-4301-82fc-f010889cdcf8",
   "metadata": {},
   "source": [
    "# Feature Engineering"
   ]
  },
  {
   "cell_type": "markdown",
   "id": "c0c75546-fcc2-4e16-b2c1-d437558e073c",
   "metadata": {},
   "source": [
    "## In this part, we are enriching dataset before executing frequent itemsets algorithm and association rules.\n",
    "### Enrichments were done:\n",
    "1. Add sentiment scores of the comments from reviews\n",
    "2. Add most important amenities obtained from TF-IDF scores"
   ]
  },
  {
   "cell_type": "code",
   "execution_count": 16,
   "id": "ce870f87-403c-4ea5-997d-1fa2f559a3fb",
   "metadata": {},
   "outputs": [],
   "source": [
    "#Concatenate ids that have stored before back to our final clustered dataframe. \n",
    "#Because it will be used in merging of sentiment scores of the reviews \n",
    "df_fin = pd.concat([ids, df_final], axis=1).dropna()\n",
    "#Clear the noises that is not clustered by DBSCAN\n",
    "df_fin = df_fin[df_fin['cluster'] != -1]"
   ]
  },
  {
   "cell_type": "markdown",
   "id": "1baa8054-bc33-4380-a98c-bdaef9729c36",
   "metadata": {},
   "source": [
    "#### We merged sentiment scores of the reviews with associated sentiment category (VG: Very Good, G: Good, N: Neutral, B: Bad, VB: Very Bad)\n",
    "See the following link how we used RoBERTa model to get sentiment scores https://github.com/cecil7525/CompToolsAirBNB/blob/sentiment/senti.ipynb"
   ]
  },
  {
   "cell_type": "code",
   "execution_count": 17,
   "id": "d61ca504-bf56-4377-81f3-39c9e93900b7",
   "metadata": {},
   "outputs": [],
   "source": [
    "#Read the sentiment scores data generated by Georgios\n",
    "df_sentiment = pd.read_csv(\"./NYtransREVnSCALE3.csv\", header=[0], low_memory=False)\n",
    "df_final_sentiment = df_sentiment[[\"listing_id\", \"scaled\"]]\n",
    "df_joined = pd.merge(df_final_sentiment, df_fin, left_on=\"listing_id\", right_on=\"id\", how=\"inner\")"
   ]
  },
  {
   "cell_type": "markdown",
   "id": "6e45052f-bfbb-44c2-a3ca-0a42cb278a6d",
   "metadata": {},
   "source": [
    "#### We merged most important amenitites that affects comments in the reviews. TF-IDF implementation"
   ]
  },
  {
   "cell_type": "code",
   "execution_count": 18,
   "id": "963586b8-b7b4-4e97-90cc-fe91498d20c4",
   "metadata": {},
   "outputs": [
    {
     "name": "stderr",
     "output_type": "stream",
     "text": [
      "[nltk_data] Error loading stopwords: <urlopen error [SSL:\n",
      "[nltk_data]     CERTIFICATE_VERIFY_FAILED] certificate verify failed:\n",
      "[nltk_data]     unable to get local issuer certificate (_ssl.c:1007)>\n"
     ]
    }
   ],
   "source": [
    "import pandas as pd\n",
    "import string\n",
    "import ast \n",
    "from sklearn.feature_extraction.text import TfidfVectorizer\n",
    "from nltk.corpus import stopwords\n",
    "import nltk\n",
    "import matplotlib.pyplot as plt\n",
    "from collections import Counter\n",
    "\n",
    "nltk.download('stopwords')\n",
    "# read the original data to make the analysis\n",
    "amenities_data = pd.read_csv('listings.csv')\n",
    "\n",
    "# Function: Preprocessing reviews\n",
    "def preprocess_text(text):\n",
    "    text = text.lower()  \n",
    "    text = text.translate(str.maketrans('', '', string.punctuation))  \n",
    "    stop_words = set(stopwords.words('english'))\n",
    "    tokens = text.split()\n",
    "    tokens = [word for word in tokens if word not in stop_words]  \n",
    "    return ' '.join(tokens)\n",
    "\n",
    "# Applying preprocessing to the reviews\n",
    "df_sentiment['processed_comments'] = df_sentiment['comments'].astype(str).apply(preprocess_text)\n",
    "\n",
    "# TF-IDF vectorizer\n",
    "tfidf = TfidfVectorizer()  \n",
    "tfidf_matrix = tfidf.fit_transform(df_sentiment['processed_comments'])\n",
    "tfidf_terms = tfidf.get_feature_names_out()\n",
    "\n",
    "# Function: Getting the amenities from the listings.csv\n",
    "def extract_amenities(amenities_string):\n",
    "    try:\n",
    "        return ast.literal_eval(amenities_string)\n",
    "    except:\n",
    "        return []\n",
    "\n",
    "amenities_data['processed_amenities'] = amenities_data['amenities'].apply(extract_amenities)\n",
    "\n",
    "# Flattening and normalizing the list of amenities for comparison process\n",
    "all_amenities = set(\n",
    "    amenity.lower() for amenities in amenities_data['processed_amenities'] for amenity in amenities\n",
    ")\n",
    "\n",
    "# Function: Comparing the TF-IDF terms with the amenities\n",
    "def find_matches(tfidf_terms, amenities):\n",
    "    matches = [term for term in tfidf_terms if term in amenities]\n",
    "    return list(set(matches))\n",
    "\n",
    "# Applying the function for comparing terms with amenities\n",
    "df_sentiment['tfidf_amenity_matches'] = df_sentiment['processed_comments'].apply(\n",
    "    lambda x: find_matches(x.split(), all_amenities)\n",
    ")\n",
    "\n",
    "# Get the unique mentions of the amenities for specific listing\n",
    "amenitites_df = df_sentiment[[\"listing_id\", \"tfidf_amenity_matches\"]]\n",
    "grouped = amenitites_df.groupby('listing_id').agg(\n",
    "    all_mentions=('tfidf_amenity_matches', lambda x: list(set([item for sublist in x for item in sublist])))  # Flatten lists\n",
    ").reset_index()"
   ]
  },
  {
   "cell_type": "code",
   "execution_count": 19,
   "id": "18140770-7f45-4df3-acb8-facceae87ee1",
   "metadata": {},
   "outputs": [],
   "source": [
    "#Get necessary columns\n",
    "staging_important_amenities = grouped[[\"listing_id\", \"all_mentions\"]]"
   ]
  },
  {
   "cell_type": "code",
   "execution_count": 20,
   "id": "5ea92bc5-10c9-4363-aca6-165164bb447b",
   "metadata": {
    "scrolled": true
   },
   "outputs": [],
   "source": [
    "#Convert [\"kitchen\", \"wi-fi\", \"coffee\" ...] arrays to distinct amenities, i.e. distribute among all columns\n",
    "expanded = staging_important_amenities['all_mentions'].apply(lambda x: pd.Series(x))\n",
    "expanded.columns = [f'amenity_{i+1}' for i in range(expanded.shape[1])]\n",
    "\n",
    "final_important_amenities = pd.concat([staging_important_amenities, expanded], axis=1).drop(columns=[\"all_mentions\"])"
   ]
  },
  {
   "cell_type": "code",
   "execution_count": 21,
   "id": "d00db979-c688-46e7-9ca0-72c265d4c730",
   "metadata": {},
   "outputs": [
    {
     "data": {
      "text/html": [
       "<div>\n",
       "<style scoped>\n",
       "    .dataframe tbody tr th:only-of-type {\n",
       "        vertical-align: middle;\n",
       "    }\n",
       "\n",
       "    .dataframe tbody tr th {\n",
       "        vertical-align: top;\n",
       "    }\n",
       "\n",
       "    .dataframe thead th {\n",
       "        text-align: right;\n",
       "    }\n",
       "</style>\n",
       "<table border=\"1\" class=\"dataframe\">\n",
       "  <thead>\n",
       "    <tr style=\"text-align: right;\">\n",
       "      <th></th>\n",
       "      <th>listing_id</th>\n",
       "      <th>scaled</th>\n",
       "      <th>id</th>\n",
       "      <th>name_sent</th>\n",
       "      <th>desc_sent</th>\n",
       "      <th>days_as_host</th>\n",
       "      <th>host_in_NY</th>\n",
       "      <th>host_about</th>\n",
       "      <th>host_response_rate_int</th>\n",
       "      <th>host_acceptance_rate_int</th>\n",
       "      <th>...</th>\n",
       "      <th>amenity_14</th>\n",
       "      <th>amenity_15</th>\n",
       "      <th>amenity_16</th>\n",
       "      <th>amenity_17</th>\n",
       "      <th>amenity_18</th>\n",
       "      <th>amenity_19</th>\n",
       "      <th>amenity_20</th>\n",
       "      <th>amenity_21</th>\n",
       "      <th>amenity_22</th>\n",
       "      <th>amenity_23</th>\n",
       "    </tr>\n",
       "  </thead>\n",
       "  <tbody>\n",
       "    <tr>\n",
       "      <th>0</th>\n",
       "      <td>2595</td>\n",
       "      <td>VG</td>\n",
       "      <td>2595</td>\n",
       "      <td>1</td>\n",
       "      <td>2</td>\n",
       "      <td>5840</td>\n",
       "      <td>1</td>\n",
       "      <td>76</td>\n",
       "      <td>67</td>\n",
       "      <td>24</td>\n",
       "      <td>...</td>\n",
       "      <td>NaN</td>\n",
       "      <td>NaN</td>\n",
       "      <td>NaN</td>\n",
       "      <td>NaN</td>\n",
       "      <td>NaN</td>\n",
       "      <td>NaN</td>\n",
       "      <td>NaN</td>\n",
       "      <td>NaN</td>\n",
       "      <td>NaN</td>\n",
       "      <td>NaN</td>\n",
       "    </tr>\n",
       "    <tr>\n",
       "      <th>1</th>\n",
       "      <td>2595</td>\n",
       "      <td>VG</td>\n",
       "      <td>2595</td>\n",
       "      <td>1</td>\n",
       "      <td>2</td>\n",
       "      <td>5840</td>\n",
       "      <td>1</td>\n",
       "      <td>76</td>\n",
       "      <td>67</td>\n",
       "      <td>24</td>\n",
       "      <td>...</td>\n",
       "      <td>NaN</td>\n",
       "      <td>NaN</td>\n",
       "      <td>NaN</td>\n",
       "      <td>NaN</td>\n",
       "      <td>NaN</td>\n",
       "      <td>NaN</td>\n",
       "      <td>NaN</td>\n",
       "      <td>NaN</td>\n",
       "      <td>NaN</td>\n",
       "      <td>NaN</td>\n",
       "    </tr>\n",
       "    <tr>\n",
       "      <th>2</th>\n",
       "      <td>2595</td>\n",
       "      <td>VG</td>\n",
       "      <td>2595</td>\n",
       "      <td>1</td>\n",
       "      <td>2</td>\n",
       "      <td>5840</td>\n",
       "      <td>1</td>\n",
       "      <td>76</td>\n",
       "      <td>67</td>\n",
       "      <td>24</td>\n",
       "      <td>...</td>\n",
       "      <td>NaN</td>\n",
       "      <td>NaN</td>\n",
       "      <td>NaN</td>\n",
       "      <td>NaN</td>\n",
       "      <td>NaN</td>\n",
       "      <td>NaN</td>\n",
       "      <td>NaN</td>\n",
       "      <td>NaN</td>\n",
       "      <td>NaN</td>\n",
       "      <td>NaN</td>\n",
       "    </tr>\n",
       "  </tbody>\n",
       "</table>\n",
       "<p>3 rows × 56 columns</p>\n",
       "</div>"
      ],
      "text/plain": [
       "   listing_id scaled    id  name_sent  desc_sent  days_as_host  host_in_NY  \\\n",
       "0        2595     VG  2595          1          2          5840           1   \n",
       "1        2595     VG  2595          1          2          5840           1   \n",
       "2        2595     VG  2595          1          2          5840           1   \n",
       "\n",
       "   host_about  host_response_rate_int  host_acceptance_rate_int  ...  \\\n",
       "0          76                      67                        24  ...   \n",
       "1          76                      67                        24  ...   \n",
       "2          76                      67                        24  ...   \n",
       "\n",
       "   amenity_14  amenity_15  amenity_16  amenity_17  amenity_18  amenity_19  \\\n",
       "0         NaN         NaN         NaN         NaN         NaN         NaN   \n",
       "1         NaN         NaN         NaN         NaN         NaN         NaN   \n",
       "2         NaN         NaN         NaN         NaN         NaN         NaN   \n",
       "\n",
       "   amenity_20  amenity_21  amenity_22  amenity_23  \n",
       "0         NaN         NaN         NaN         NaN  \n",
       "1         NaN         NaN         NaN         NaN  \n",
       "2         NaN         NaN         NaN         NaN  \n",
       "\n",
       "[3 rows x 56 columns]"
      ]
     },
     "execution_count": 21,
     "metadata": {},
     "output_type": "execute_result"
    }
   ],
   "source": [
    "df_all_information = pd.merge(df_joined, final_important_amenities, on=\"listing_id\", how=\"inner\")\n",
    "df_all_information.head(3)"
   ]
  },
  {
   "cell_type": "markdown",
   "id": "0ae4f7ff-205a-4ca3-b8f0-f21f3f0f769d",
   "metadata": {},
   "source": [
    "# Frequent Itemsets and Association Rules"
   ]
  },
  {
   "cell_type": "markdown",
   "id": "3fcbc4d7-8438-4bb1-b2ce-7473e4ab1e3c",
   "metadata": {},
   "source": [
    "## In this part, we mined cluster-based association rules"
   ]
  },
  {
   "cell_type": "markdown",
   "id": "77d75f9f-42f6-4d1c-98a8-ebf7aaee4dcd",
   "metadata": {},
   "source": [
    "### We needed to categorize all the dataframe to obtain basket-like transactions to increase interpretability of the data"
   ]
  },
  {
   "cell_type": "code",
   "execution_count": 22,
   "id": "33f8b21e-ac04-4cba-b58b-a730a20381c9",
   "metadata": {},
   "outputs": [
    {
     "name": "stdout",
     "output_type": "stream",
     "text": [
      "The history saving thread hit an unexpected error (OperationalError('attempt to write a readonly database')).History will not be written to the database.\n"
     ]
    }
   ],
   "source": [
    "def categorize_all_df(data):\n",
    "    data['name_sent'] = data['name_sent'].replace({0: 'name_negative', 1: 'name_neutral', 2: 'name_positive'})\n",
    "    data['desc_sent'] = data['desc_sent'].replace({0: 'desc_negative', 1: 'desc_neutral', 2: 'desc_positive'})\n",
    "    data['days_as_host'] = pd.cut(data['days_as_host'], bins=[i*365 for i in range(20)], labels=[f\"{i} years\" for i in range(19)])\n",
    "    data['host_in_NY'] = data['name_sent'].replace({0: 'host_not_in_NY', 1: 'host_in_NY'})\n",
    "    data['host_about'] = pd.cut(data['host_about'], bins=[0,50,100,150,1000], labels=[\"very_short_about\", \"short_about\", \"moderate_about\", \"long_about\"])\n",
    "    data['host_response_rate_int'] = pd.cut(data['host_response_rate_int'], bins=[0,25,50,75,100], labels=[\"very_low_response\", \"low_response\", \"moderate_response\", \"high_response\"])\n",
    "    data['host_acceptance_rate_int'] = pd.cut(data['host_acceptance_rate_int'], bins=[0,25,50,75,100], labels=[\"very_low_acceptance\", \"low_acceptance\", \"moderate_acceptance\", \"high_acceptance\"])\n",
    "    data['host_is_superhost'] = data['host_is_superhost'].replace({0: 'host_is_not_superhost', 1: 'host_is_superhost'})\n",
    "    data['host_verifications'] = data['host_verifications'].replace({0: 'no_verification', 1: '1_verification', 2: '2_verification', 3: 'all_verification'})\n",
    "    data['host_identity_verified'] = data['host_identity_verified'].replace({0: 'host_identity_not_verified', 1: 'host_identity_verified'})\n",
    "    data['accommodates'] = data['accommodates'].apply(lambda x: f\"{x} accommodates\")\n",
    "    data['bathrooms'] = data['bathrooms'].apply(lambda x: f\"{x} bathrooms\")\n",
    "    data['bedrooms'] = data['bedrooms'].apply(lambda x: f\"{x} bedrooms\")\n",
    "    data['beds'] = data['beds'].apply(lambda x: f\"{x} beds\")\n",
    "    data['amenities'] = data['amenities'].apply(lambda x: f\"{x} amenities\")\n",
    "    data['price'] = pd.cut(data['price'], bins=[0,50,100,150,200,250,10000], labels=[\"very_cheap\", \"cheap\", \"moderate\", \"somehow expensive\", \"expensive\", \"very expensive\"])\n",
    "    data['minimum_nights'] = data['minimum_nights'].apply(lambda x: f\"{x} min_nights\")\n",
    "    data['maximum_nights'] = data['maximum_nights'].apply(lambda x: f\"{x} max_nights\")\n",
    "    data['availability_365'] = pd.cut(data['availability_365'], bins=[0,30,60,90,120,150,180,210,240,270,300,330,367], labels=[f\"available_{i}_{i+1}_months\" for i in range(12)])\n",
    "    data['number_of_reviews'] = pd.cut(data['number_of_reviews'], bins=[0,10,50,200,500,10000], labels=[\"very_low_number_of_rev\", \"low_number_of_rev\", \"moderate_number_of_rev\", \"high_of_rev\", \"very_high_number_of_rev\"])\n",
    "    data['instant_bookable'] = data['instant_bookable'].replace({0: 'not_instant_bookable', 1: 'instant_bookable'})\n",
    "    data['calculated_host_listings_count'] = pd.cut(data['calculated_host_listings_count'], bins=[0,2,5,15,50,500], labels=[\"very_low_number_of_listings\", \"low_number_of_listings\", \"moderate_number_of_listings\", \"high_of_listings\", \"very_high_number_of_listings\"])\n",
    "    data['private_bathroom'] = data['private_bathroom'].apply(lambda x: f\"{x} private_bathroom\")\n",
    "    data['shared_bathroom'] = data['shared_bathroom'].apply(lambda x: f\"{x} shared_bathroom\")\n",
    "    data = data.astype(str)\n",
    "    return data"
   ]
  },
  {
   "cell_type": "markdown",
   "id": "1b184e91-1339-465d-a234-4892bdb511d2",
   "metadata": {},
   "source": [
    "### First cluster (host has profile picture and room type is entire home)"
   ]
  },
  {
   "cell_type": "code",
   "execution_count": 23,
   "id": "111f33bb-0162-47bd-846d-b31a6699ca4f",
   "metadata": {},
   "outputs": [],
   "source": [
    "first_cluster_df = df_all_information[(df_all_information[\"cluster\"] == 0) & (df_all_information[\"room_type_Entire home/apt\"] == 1)]\n",
    "first_cluster_df = first_cluster_df.drop(columns=[\"listing_id\", \"id\", \"host_has_profile_pic\", \"room_type_Entire home/apt\", \n",
    "                                                  \"room_type_Hotel room\", \"room_type_Private room\", \"room_type_Shared room\", \"cluster\"])\n",
    "first_cluster_df = categorize_all_df(first_cluster_df)"
   ]
  },
  {
   "cell_type": "markdown",
   "id": "211a06d7-fe68-45ec-897c-dc146fd967bb",
   "metadata": {},
   "source": [
    "#### Apriori and association rules"
   ]
  },
  {
   "cell_type": "code",
   "execution_count": 24,
   "id": "af994294-254a-4315-986f-e90e33cdf27f",
   "metadata": {},
   "outputs": [],
   "source": [
    "from mlxtend.preprocessing import TransactionEncoder\n",
    "from mlxtend.frequent_patterns import apriori, association_rules"
   ]
  },
  {
   "cell_type": "code",
   "execution_count": 25,
   "id": "7fd4737f-b5fc-4a44-901d-8b062d07b4ab",
   "metadata": {},
   "outputs": [],
   "source": [
    "transactions = []\n",
    "# We iterate over all the dataframe to obtain list-based transactions to use in A-priori algorithm\n",
    "for _, row in first_cluster_df.iterrows():\n",
    "    temp = [item for item in row.tolist() if item != 'nan']\n",
    "    transactions.append(temp)"
   ]
  },
  {
   "cell_type": "code",
   "execution_count": 26,
   "id": "357a91e5-993a-4b1f-af1d-d6dee5f42e6b",
   "metadata": {},
   "outputs": [],
   "source": [
    "te = TransactionEncoder()\n",
    "te_data = te.fit(transactions).transform(transactions)\n",
    "transact_df = pd.DataFrame(te_data, columns=te.columns_)\n",
    "\n",
    "# Apriori algorithm with minimum support with 0.5 \n",
    "#meaning just consider the items that have been included at least half of the transactions\n",
    "frequent_itemsets = apriori(transact_df, min_support=0.5, use_colnames=True)"
   ]
  },
  {
   "cell_type": "code",
   "execution_count": 27,
   "id": "bd8783c9-3260-41e6-ac4c-ad930fc707ac",
   "metadata": {},
   "outputs": [],
   "source": [
    "rules = association_rules(frequent_itemsets, metric=\"lift\", min_threshold=1.013, num_itemsets=int(frequent_itemsets.count().support))"
   ]
  },
  {
   "cell_type": "code",
   "execution_count": 28,
   "id": "65e02c82-a702-4571-bcfb-f1bd1cbebaeb",
   "metadata": {},
   "outputs": [
    {
     "data": {
      "text/plain": [
       "array([frozenset({'high_response', '30 min_nights', 'breakfast'}),\n",
       "       frozenset({'high_response', '30 min_nights', '0.0 shared_bathroom', 'breakfast'}),\n",
       "       frozenset({'kitchen', 'high_response', '30 min_nights', 'breakfast'}),\n",
       "       frozenset({'breakfast', 'high_response', 'kitchen', '0.0 shared_bathroom', '30 min_nights'})],\n",
       "      dtype=object)"
      ]
     },
     "execution_count": 28,
     "metadata": {},
     "output_type": "execute_result"
    }
   ],
   "source": [
    "rules[(rules[\"consequents\"].isin([frozenset({'VG'}), frozenset({'G'}), frozenset({'N'}), frozenset({'B'}), frozenset({'VB'})]) ) & (rules[\"lift\"] >= 1.01348)][\"antecedents\"].unique()"
   ]
  },
  {
   "cell_type": "markdown",
   "id": "13d6dbac-0bc4-4877-8bda-037c0425335a",
   "metadata": {},
   "source": [
    "#### We concluded that if a customer rent an entire home that have private bathroom (0 shared bathroom), kitchen and breakfast service for at least 30 days and get high response from the host, the probability of leaving positive feedback increases"
   ]
  },
  {
   "cell_type": "markdown",
   "id": "830ad639-30e8-4ddd-aedd-d63ea019cdf3",
   "metadata": {},
   "source": [
    "### Second cluster (host has profile picture and room type is private room)"
   ]
  },
  {
   "cell_type": "code",
   "execution_count": 29,
   "id": "bcf493e4-957f-494a-8cb2-eb308511d542",
   "metadata": {},
   "outputs": [],
   "source": [
    "second_cluster_df = df_all_information[(df_all_information[\"cluster\"] == 0) & (df_all_information[\"room_type_Private room\"] == 1)]\n",
    "second_cluster_df = second_cluster_df.drop(columns=[\"listing_id\", \"id\", \"host_has_profile_pic\", \"room_type_Entire home/apt\", \n",
    "                                                    \"room_type_Hotel room\", \"room_type_Private room\", \"room_type_Shared room\", \"cluster\"])\n",
    "second_cluster_df = categorize_all_df(second_cluster_df)"
   ]
  },
  {
   "cell_type": "code",
   "execution_count": 30,
   "id": "bba5a654-115f-404e-9e5b-8d803fade266",
   "metadata": {},
   "outputs": [],
   "source": [
    "transactions_2 = []\n",
    "\n",
    "for _, row in second_cluster_df.iterrows():\n",
    "    temp = [item for item in row.tolist() if item != 'nan']\n",
    "    transactions_2.append(temp)"
   ]
  },
  {
   "cell_type": "code",
   "execution_count": 31,
   "id": "9ce5a5cc-7ec4-416e-bb69-ea902003bafb",
   "metadata": {},
   "outputs": [],
   "source": [
    "te = TransactionEncoder()\n",
    "te_data = te.fit(transactions_2).transform(transactions_2)\n",
    "transact_df_2 = pd.DataFrame(te_data, columns=te.columns_)\n",
    "\n",
    "# Apriori algorithm with minimum support with 0.5 \n",
    "#meaning just consider the items that have been included at least half of the transactions\n",
    "frequent_itemsets = apriori(transact_df_2, min_support=0.5, use_colnames=True)"
   ]
  },
  {
   "cell_type": "code",
   "execution_count": 32,
   "id": "a525229e-b904-40be-bad8-73e1f25c82a8",
   "metadata": {},
   "outputs": [],
   "source": [
    "rules = association_rules(frequent_itemsets, metric=\"lift\", min_threshold=1.01, num_itemsets=int(frequent_itemsets.count().support))"
   ]
  },
  {
   "cell_type": "code",
   "execution_count": 33,
   "id": "74feb812-dece-429e-9c47-e3e112d2ad16",
   "metadata": {},
   "outputs": [
    {
     "data": {
      "text/plain": [
       "array([frozenset({'host_identity_verified', '1.0 bathrooms', 'very_low_number_of_listings'}),\n",
       "       frozenset({'1.0 bedrooms', 'host_identity_verified', '1.0 bathrooms', 'very_low_number_of_listings'}),\n",
       "       frozenset({'safe', 'host_identity_verified', '1.0 bathrooms', 'very_low_number_of_listings'}),\n",
       "       frozenset({'host_identity_verified', '1.0 bathrooms', 'coffee', 'safe', 'very_low_number_of_listings'})],\n",
       "      dtype=object)"
      ]
     },
     "execution_count": 33,
     "metadata": {},
     "output_type": "execute_result"
    }
   ],
   "source": [
    "rules[(rules[\"consequents\"].isin([frozenset({'VG'}), frozenset({'G'}), frozenset({'N'}), frozenset({'B'}), frozenset({'VB'})]) ) & (rules[\"lift\"] >= 1.0126)][\"antecedents\"].unique()"
   ]
  },
  {
   "cell_type": "markdown",
   "id": "078b9a13-1ce9-40b4-b3a1-2da7874e5c14",
   "metadata": {},
   "source": [
    "#### We concluded that if customers rent a private room that have 1 bathroom (regardless of shared or private), 1 bedroom and coffee service, also host identity is verified, the customer feels safe and the probability of leaving positive feedback increases :)"
   ]
  },
  {
   "cell_type": "markdown",
   "id": "7eb5d8c2-5d36-41c4-a34e-be663f572012",
   "metadata": {},
   "source": [
    "### Third cluster (host has profile picture and the room type is shared room)"
   ]
  },
  {
   "cell_type": "code",
   "execution_count": 34,
   "id": "30d03040-34e2-4be3-9407-1bed96fce7c0",
   "metadata": {},
   "outputs": [],
   "source": [
    "third_cluster_df = df_all_information[(df_all_information[\"cluster\"] == 2)]\n",
    "third_cluster_df = third_cluster_df.drop(columns=[\"listing_id\", \"id\", \"host_has_profile_pic\", \"room_type_Entire home/apt\",\n",
    "                                                  \"room_type_Hotel room\", \"room_type_Private room\", \"room_type_Shared room\", \"cluster\"])\n",
    "third_cluster_df = categorize_all_df(third_cluster_df)"
   ]
  },
  {
   "cell_type": "code",
   "execution_count": 35,
   "id": "83c2c4e8-5634-4d8f-b033-467fb76591b4",
   "metadata": {},
   "outputs": [],
   "source": [
    "transactions_3 = []\n",
    "\n",
    "for _, row in third_cluster_df.iterrows():\n",
    "    temp = [item for item in row.tolist() if item != 'nan']\n",
    "    transactions_3.append(temp)"
   ]
  },
  {
   "cell_type": "code",
   "execution_count": 36,
   "id": "a3a3e0ba-b02e-471e-b883-3a6094f9da94",
   "metadata": {},
   "outputs": [],
   "source": [
    "te = TransactionEncoder()\n",
    "te_data = te.fit(transactions_3).transform(transactions_3)\n",
    "transact_df_3 = pd.DataFrame(te_data, columns=te.columns_)\n",
    "\n",
    "# Apriori algorithm with minimum support with 0.5 \n",
    "#meaning just consider the itemsets that have been included at least half of the transactions\n",
    "#frequent_itemsets = apriori(transact_df_3, min_support=1, use_colnames=True)"
   ]
  },
  {
   "cell_type": "markdown",
   "id": "46455711-7d4a-49ff-ab5c-c5948b300efa",
   "metadata": {},
   "source": [
    "#### Nothing to conclude for this cluster because every feature in every shared room listing have exactly the same features"
   ]
  },
  {
   "cell_type": "markdown",
   "id": "e681ef45-21ac-49a8-86aa-8e74c15eb559",
   "metadata": {},
   "source": [
    "### Last cluster (host has no profile picture and room type is either entire home or private room)"
   ]
  },
  {
   "cell_type": "code",
   "execution_count": 37,
   "id": "a58a4131-8e75-4a0c-8643-dda296992e48",
   "metadata": {},
   "outputs": [],
   "source": [
    "fourth_cluster_df = df_all_information[(df_all_information[\"cluster\"] == 1)]\n",
    "fourth_cluster_df = fourth_cluster_df.drop(columns=[\"listing_id\", \"id\", \"host_has_profile_pic\", \"room_type_Entire home/apt\", \"room_type_Hotel room\", \"room_type_Private room\", \n",
    "                                                    \"room_type_Shared room\", \"cluster\"])\n",
    "fourth_cluster_df = categorize_all_df(fourth_cluster_df)"
   ]
  },
  {
   "cell_type": "code",
   "execution_count": 38,
   "id": "0762a63c-93dd-4ac3-9262-368839043842",
   "metadata": {},
   "outputs": [],
   "source": [
    "transactions_4 = []\n",
    "\n",
    "for _, row in fourth_cluster_df.iterrows():\n",
    "    temp = [item for item in row.tolist() if item != 'nan']\n",
    "    transactions_4.append(temp)"
   ]
  },
  {
   "cell_type": "code",
   "execution_count": 39,
   "id": "e8cc0ac3-fb54-4c0b-b8e8-453da85a590e",
   "metadata": {},
   "outputs": [],
   "source": [
    "te = TransactionEncoder()\n",
    "te_data = te.fit(transactions_4).transform(transactions_4)\n",
    "transact_df_4 = pd.DataFrame(te_data, columns=te.columns_)\n",
    "\n",
    "# Apriori algorithm with minimum support with 0.5 \n",
    "#meaning just consider the itemsets that have been included at least half of the transactions\n",
    "#frequent_itemsets = apriori(transact_df_3, min_support=1, use_colnames=True)"
   ]
  },
  {
   "cell_type": "markdown",
   "id": "d5e56fd3-5648-40d5-a6a7-61f16b995b75",
   "metadata": {},
   "source": [
    "#### Also nothing to conclude for this one because every feature in every listings in this cluster have exactly the same features"
   ]
  }
 ],
 "metadata": {
  "kernelspec": {
   "display_name": "Python 3 (ipykernel)",
   "language": "python",
   "name": "python3"
  },
  "language_info": {
   "codemirror_mode": {
    "name": "ipython",
    "version": 3
   },
   "file_extension": ".py",
   "mimetype": "text/x-python",
   "name": "python",
   "nbconvert_exporter": "python",
   "pygments_lexer": "ipython3",
   "version": "3.10.11"
  }
 },
 "nbformat": 4,
 "nbformat_minor": 5
}
